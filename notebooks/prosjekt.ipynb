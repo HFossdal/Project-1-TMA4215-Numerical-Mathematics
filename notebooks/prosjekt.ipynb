{
 "cells": [
  {
   "cell_type": "markdown",
   "metadata": {},
   "source": [
    "# **Project 1 TMA4215 - Numerical Mathematics**"
   ]
  },
  {
   "cell_type": "code",
   "execution_count": null,
   "metadata": {},
   "outputs": [],
   "source": [
    "import numpy as np\n",
    "import scipy.fft\n",
    "import matplotlib.pyplot as plt\n",
    "import csv\n",
    "import scipy.fft\n",
    "import scipy.signal as signal\n",
    "from PIL import Image\n"
   ]
  },
  {
   "cell_type": "markdown",
   "metadata": {},
   "source": [
    "#### **Task 1: The (Discrete) Fourier Transform**"
   ]
  },
  {
   "cell_type": "markdown",
   "metadata": {},
   "source": [
    "a) In this task we will consider functions $e^{2\\pi i kx}, k \\in \\Z, x \\in \\mathbb{T}$. I will prove that for any $k$, $h \\in \\mathbb{T}$ that we have"
   ]
  },
  {
   "cell_type": "markdown",
   "metadata": {},
   "source": [
    "$$\\langle e^{2\\pi ik\\cdot}, e^{2\\pi ih\\cdot} \\rangle = \\begin{cases} 1 & \\text{if } k = h \\\\ 0 & \\text{else.} \\end{cases}$$\n"
   ]
  },
  {
   "cell_type": "markdown",
   "metadata": {},
   "source": [
    "We start the proof by setting up the inner product as an integral. Since we know that the function has a period of $T = 1$, we find that the integral corresponding to the inner product is"
   ]
  },
  {
   "cell_type": "markdown",
   "metadata": {},
   "source": [
    "$$\\langle e^{2\\pi ik\\cdot}, e^{2\\pi ih\\cdot} \\rangle =\\int_0^1 e^{2\\pi ik} \\cdot e^{-2\\pi ih} dx = \\int_0^1 e^{2\\pi i(k-h)} dx$$"
   ]
  },
  {
   "cell_type": "markdown",
   "metadata": {},
   "source": [
    "If  $k = 1$ the integral reduces to"
   ]
  },
  {
   "cell_type": "markdown",
   "metadata": {},
   "source": [
    "$$\\int_0^1 e^{2\\pi i \\cdot 0} dx = \\int_0^1 1 dx = 1.$$"
   ]
  },
  {
   "cell_type": "markdown",
   "metadata": {},
   "source": [
    "Hence, if k = h, the inner product $\\langle e^{2\\pi ik\\cdot}, e^{2\\pi ih\\cdot} \\rangle$ becomes $1$."
   ]
  },
  {
   "cell_type": "markdown",
   "metadata": {},
   "source": [
    "If $k\\neq h$ we get"
   ]
  },
  {
   "cell_type": "markdown",
   "metadata": {},
   "source": [
    "$$ \\int_0^1 e^{2\\pi i(k-h)} dx = \\dfrac{e^{2\\pi i x(k-h)}}{2\\pi i (k-h)}\\Big|_0^1 = \\dfrac{e^{2\\pi i (k-h)}-1}{2\\pi i (k-h)} = \\dfrac{\\cos(2\\pi(k-h)) + i \\sin(2\\pi(k-h)) - 1}{2\\pi i (k-h)} = \\dfrac{\\sin(2\\pi(k-h)) - i \\cos(2\\pi(k-h)) + i}{2\\pi(k-h)} \\tag{1}.$$"
   ]
  },
  {
   "cell_type": "markdown",
   "metadata": {},
   "source": [
    "Since $h, k \\in \\Z$, we know that $(k-h) \\in \\Z \\quad \\forall h, k \\in \\Z$. That implies that $\\sin(2\\pi(k-h)) = 0 \\quad \\forall h,k \\in \\Z$."
   ]
  },
  {
   "cell_type": "markdown",
   "metadata": {},
   "source": [
    "Furthermore, since $(k-h) \\in \\Z \\quad \\forall h,k \\in \\Z$, we know that $2\\pi(k-h)$ always will be a multiple of $2\\pi$. Hence, $\\cos(2\\pi(k-h)) = 1 \\quad\\forall h,k \\in \\Z$."
   ]
  },
  {
   "cell_type": "markdown",
   "metadata": {},
   "source": [
    "Thus, we have that"
   ]
  },
  {
   "cell_type": "markdown",
   "metadata": {},
   "source": [
    "$$(1) \\quad= \\dfrac{0-i+i}{2\\pi(k-h)} = 0 \\quad \\forall h,k \\in \\Z. \\quad \\square$$"
   ]
  },
  {
   "cell_type": "markdown",
   "metadata": {},
   "source": [
    "b) In this task we will consider functions of the form $\\sqrt(2) \\sin(2\\pi mx), m = 1,2, ..., \\cos(2\\pi 0x)$ and $\\sqrt(2) \\cos(2\\pi n x), n = 1,2,...,x \\in \\mathbb{T}$. I will prove that these functions form an orthonormal system."
   ]
  },
  {
   "cell_type": "markdown",
   "metadata": {},
   "source": [
    "* $\\langle\\sqrt{2}\\sin(2\\pi n\\cdot), \\sqrt{2}\\cos(2\\pi m \\cdot)\\rangle = 0, n \\in \\{1,2,...\\}, m \\in \\{0,1,...\\}$"
   ]
  },
  {
   "cell_type": "markdown",
   "metadata": {},
   "source": [
    "The integral resulting from the inner product is"
   ]
  },
  {
   "cell_type": "markdown",
   "metadata": {},
   "source": [
    "$$\\langle\\sqrt{2}\\sin(2\\pi n\\cdot), \\sqrt{2}\\cos(2\\pi m \\cdot)\\rangle = 2 \\int_0^1 \\sin(2\\pi nx)\\cos(2\\pi m x)dx.$$"
   ]
  },
  {
   "cell_type": "markdown",
   "metadata": {},
   "source": [
    "$\\sqrt{2}\\sin(2\\pi nx)$ is an odd function over the interval $\\mathbb{T}$, and $\\sqrt{2}\\cos(2\\pi m x)$ is an even function over the same interval. Therefore, the product of the two functions equals an odd function. We are essentially taking the integral of an odd function over one period, which we know equals zero. Therefore, the inner product of the two functions equals zero. $\\quad\\square$"
   ]
  },
  {
   "cell_type": "markdown",
   "metadata": {},
   "source": [
    "* $\\langle\\sqrt{2}\\sin(2\\pi n\\cdot), \\sqrt{2}\\sin(2\\pi m \\cdot)\\rangle = \\begin{cases} 0 & \\text{if } m \\neq n, \\\\ 1 & \\text{if } m = n,\\end{cases} \\quad m,n \\in \\{1,2,...\\}$"
   ]
  },
  {
   "cell_type": "markdown",
   "metadata": {},
   "source": [
    "The integral resulting from the inner product is"
   ]
  },
  {
   "cell_type": "markdown",
   "metadata": {},
   "source": [
    "$$\\langle\\sqrt{2}\\sin(2\\pi n\\cdot), \\sqrt{2}\\sin(2\\pi m \\cdot)\\rangle = 2\\int_0^1 \\sin(2\\pi n x) \\sin(2\\pi m x)dx$$"
   ]
  },
  {
   "cell_type": "markdown",
   "metadata": {},
   "source": [
    "Using the trigonometric identity    $ \\sin\\theta \\sin\\phi = \\dfrac{\\cos(\\theta-\\phi) - \\cos(\\theta + \\phi)}{2}\\quad$, we get that"
   ]
  },
  {
   "cell_type": "markdown",
   "metadata": {},
   "source": [
    "$$2\\int_0^1 \\sin(2\\pi n x) \\sin(2\\pi m x)dx = \\int_0^1 \\left(\\cos(2\\pi x(n-m)) - \\cos(2\\pi x (n+m))\\right)dx$$"
   ]
  },
  {
   "cell_type": "markdown",
   "metadata": {},
   "source": [
    "If $m = n $, we get that"
   ]
  },
  {
   "cell_type": "markdown",
   "metadata": {},
   "source": [
    "$$\\int_0^1 \\left(\\cos(2\\pi x(n-m)) - \\cos(2\\pi x (n+m))\\right)dx = \\int_0^1 \\left(1 - \\cos(4\\pi x n\\right) dx = \\left(x-\\dfrac{\\sin(4\\pi xn)}{4\\pi n}\\right)\\Bigg|_0^1 = \\dfrac{4\\pi n - \\sin(4\\pi n)}{4\\pi n}.$$"
   ]
  },
  {
   "cell_type": "markdown",
   "metadata": {},
   "source": [
    "Because $\\sin(4\\pi n) = 0, \\quad\\forall n \\in \\{1,2,...\\}$, the expression reduces to"
   ]
  },
  {
   "cell_type": "markdown",
   "metadata": {},
   "source": [
    "$$\\dfrac{4\\pi n - 0}{4\\pi n}  = 1.$$"
   ]
  },
  {
   "cell_type": "markdown",
   "metadata": {},
   "source": [
    "If $m \\neq n$ we get "
   ]
  },
  {
   "cell_type": "markdown",
   "metadata": {},
   "source": [
    "$$\\int_0^1 \\left(\\cos(2\\pi x(n-m)) - \\cos(2\\pi x (n+m))\\right)dx = \\left(\\dfrac{\\sin(2\\pi x(n-m))}{2\\pi(n-m)} - \\dfrac{\\sin(2\\pi x(n+m))}{2\\pi(n+m)}\\right)\\Bigg|_0^1 = \\dfrac{\\sin(2\\pi (n-m))}{2\\pi(n-m)} - \\dfrac{\\sin(2\\pi (n+m))}{2\\pi(n+m)}.$$"
   ]
  },
  {
   "cell_type": "markdown",
   "metadata": {},
   "source": [
    "We know that $(n+m), (n-m) \\in \\Z \\quad \\forall m,n \\in \\{1,2,...\\}.$ Hence, $2\\pi(n-m)$ and $2\\pi(n-m)$ will always be a multiple of $2\\pi$. Thus, "
   ]
  },
  {
   "cell_type": "markdown",
   "metadata": {},
   "source": [
    "$$ \\dfrac{\\sin(2\\pi (n-m))}{2\\pi(n-m)} - \\dfrac{\\sin(2\\pi (n+m))}{2\\pi(n+m)} = \\dfrac{0}{2\\pi(n-m)}- \\dfrac{0}{2\\pi(n+m)} = 0.$$"
   ]
  },
  {
   "cell_type": "markdown",
   "metadata": {},
   "source": [
    "Thus, we have shown that"
   ]
  },
  {
   "cell_type": "markdown",
   "metadata": {},
   "source": [
    "$$\\langle\\sqrt{2}\\sin(2\\pi n\\cdot), \\sqrt{2}\\sin(2\\pi m \\cdot)\\rangle = \\begin{cases} 0 & \\text{if } m \\neq n, \\\\ 1 & \\text{if } m = n,\\end{cases} \\quad m,n \\in \\{1,2,...\\}\\quad\\square$$"
   ]
  },
  {
   "cell_type": "markdown",
   "metadata": {},
   "source": [
    "* $\\langle\\sqrt{2}\\cos(2\\pi n\\cdot), \\sqrt{2}\\cos(2\\pi m \\cdot)\\rangle = \\begin{cases} 0 & \\text{if } m \\neq n, \\\\ 1 & \\text{if } m = n \\neq 0,\\\\ 2 & \\text{if } m = n = 0,\\end{cases} \\quad m,n \\in \\{0,1,...\\}$"
   ]
  },
  {
   "cell_type": "markdown",
   "metadata": {},
   "source": [
    "The integral corresponding to the inner product is"
   ]
  },
  {
   "cell_type": "markdown",
   "metadata": {},
   "source": [
    "$$\\langle\\sqrt{2}\\cos(2\\pi n\\cdot), \\sqrt{2}\\cos(2\\pi m \\cdot)\\rangle = 2\\int_0^1 \\cos(2\\pi nx) \\cos(2\\pi mx) dx$$"
   ]
  },
  {
   "cell_type": "markdown",
   "metadata": {},
   "source": [
    "Using the trigonometric identity $\\cos\\theta\\cos\\phi = \\frac{\\cos(\\theta-\\phi) + \\cos(\\theta + \\phi)}{2}$, we get"
   ]
  },
  {
   "cell_type": "markdown",
   "metadata": {},
   "source": [
    "$$2\\int_0^1 \\cos(2\\pi nx) \\cos(2\\pi mx) dx = \\int_0^1 \\left(\\cos(2\\pi x(n-m)) + \\cos(2\\pi x(n+m))\\right)dx.$$"
   ]
  },
  {
   "cell_type": "markdown",
   "metadata": {},
   "source": [
    "If $m \\neq n$, we get"
   ]
  },
  {
   "cell_type": "markdown",
   "metadata": {},
   "source": [
    "$$\\int_0^1 \\left(\\cos(2\\pi x(n-m)) + \\cos(2\\pi x(n+m))\\right)dx =  \\left(\\dfrac{\\sin(2\\pi x(n-m))}{2\\pi(n-m)} + \\dfrac{\\sin(2\\pi x(n+m))}{2\\pi(n+m)}\\right)\\Bigg|_0^1 = \\dfrac{\\sin(2\\pi (n-m))}{2\\pi(n-m)} + \\dfrac{\\sin(2\\pi (n+m))}{2\\pi(n+m)}.$$"
   ]
  },
  {
   "cell_type": "markdown",
   "metadata": {},
   "source": [
    "By the same reasoning as in the previous inner product when $m \\neq n$, we know that both $\\sin(2\\pi (n-m))$ and $\\sin(2\\pi (n+m))$ equal zero for all $m,n \\in \\{0,1,...\\}$."
   ]
  },
  {
   "cell_type": "markdown",
   "metadata": {},
   "source": [
    "If $m=n\\neq 0$ we get "
   ]
  },
  {
   "cell_type": "markdown",
   "metadata": {},
   "source": [
    "$$\\int_0^1 \\left(\\cos(2\\pi x(n-m)) + \\cos(2\\pi x(n+m))\\right)dx = \\int_0^1 \\left(1 + \\cos(4\\pi xn)\\right)dx = \\left(x+\\dfrac{\\sin(4\\pi nx)}{4\\pi n}\\right)\\Bigg|_0^1 = 1 - \\dfrac{\\sin(4\\pi n)}{4\\pi n}.$$"
   ]
  },
  {
   "cell_type": "markdown",
   "metadata": {},
   "source": [
    "We already now that $\\sin(4\\pi n) = 0 \\quad \\forall n \\in \\{0,1,...\\}$. Hence, we get"
   ]
  },
  {
   "cell_type": "markdown",
   "metadata": {},
   "source": [
    "$$1 - \\dfrac{0}{4\\pi n} = 1.$$ "
   ]
  },
  {
   "cell_type": "markdown",
   "metadata": {},
   "source": [
    "If $m = n = 0$ we get"
   ]
  },
  {
   "cell_type": "markdown",
   "metadata": {},
   "source": [
    "$$\\int_0^1 \\left(\\cos(2\\pi x(n-m)) + \\cos(2\\pi x(n+m))\\right)dx = \\int_0^1 \\left(\\cos(0) + \\cos(0)\\right)dx = \\int_0^1 2 dx = 2.$$"
   ]
  },
  {
   "cell_type": "markdown",
   "metadata": {},
   "source": [
    "Thus, we get"
   ]
  },
  {
   "cell_type": "markdown",
   "metadata": {},
   "source": [
    "$$\\langle\\sqrt{2}\\cos(2\\pi n\\cdot), \\sqrt{2}\\cos(2\\pi m \\cdot)\\rangle = \\begin{cases} 0 & \\text{if } m \\neq n, \\\\ 1 & \\text{if } m = n \\neq 0,\\\\ 2 & \\text{if } m = n = 0,\\end{cases} \\quad m,n \\in \\{0,1,...\\} \\quad\\square$$"
   ]
  },
  {
   "cell_type": "markdown",
   "metadata": {},
   "source": [
    "c) In this task we introduce to spaces;"
   ]
  },
  {
   "cell_type": "markdown",
   "metadata": {},
   "source": [
    "$$\\mathcal{T}_n:= \\text{span}(e^{-2\\pi i n \\cdot}, \\dots ,e^{2\\pi i n \\cdot}) = \\left\\{f\\bigg|f(x)= \\sum_{k=-n}^{n}c_ke^{2\\pi i kx},\\quad \\text{where}\\text{  } c_{-n},c_{-n+1}, \\dots, c_n\\in \\mathbb{C} \\right\\}$$"
   ]
  },
  {
   "cell_type": "markdown",
   "metadata": {},
   "source": [
    "$$\\mathcal{S}_n:= \\text{span}(\\cos(0\\cdot),\\cos(2\\pi\\cdot),\\dots, \\cos(2\\pi n \\cdot),\\sin(2\\pi\\cdot),\\sin(2\\pi 2\\cdot),\\dots,\\sin(2\\pi n \\cdot)) \\\\[10pt] = \\left\\{f\\bigg|f(x)= \\dfrac{a_0}{2} + \\sum_{k=1}^n a_k\\cos(2\\pi k x) + b_k \\sin(2\\pi k x),\\quad\\text{where}\\text{ } a_0, a_1, \\dots, a_n, b_1, \\dots, b_n \\in \\R\\right\\}$$"
   ]
  },
  {
   "cell_type": "markdown",
   "metadata": {},
   "source": [
    "Here, the coefficients in the first space are restricted to $c_k = \\overline{c_{-k}}, k = 0, \\dots, n$. "
   ]
  },
  {
   "cell_type": "markdown",
   "metadata": {},
   "source": [
    "I will use the result from a) and b) to find orthonormal bases for these spaces. In addition, I will use Euler's identity to argue that both spaces are the same, i.e. $\\mathcal{T}_n = \\mathcal{S}_n$ and find the dimension of $\\mathcal{T}_n$."
   ]
  },
  {
   "cell_type": "markdown",
   "metadata": {},
   "source": [
    "We know from a) that"
   ]
  },
  {
   "cell_type": "markdown",
   "metadata": {},
   "source": [
    "$$\\langle e^{2\\pi ik\\cdot}, e^{2\\pi ih\\cdot} \\rangle = \\begin{cases} 1 & \\text{if } k = h \\\\ 0 & \\text{else.} \\end{cases}$$"
   ]
  },
  {
   "cell_type": "markdown",
   "metadata": {},
   "source": [
    "This shows that $e^{2\\pi i kx}$ and $e^{2\\pi i hx}$ already are orthonormal for $k \\neq h$, and the length of $e^{-2\\pi i n x},\\dots, e^{2\\pi i nx}$ is 1."
   ]
  },
  {
   "cell_type": "markdown",
   "metadata": {},
   "source": [
    "Thus,"
   ]
  },
  {
   "cell_type": "markdown",
   "metadata": {},
   "source": [
    "$$\\{e^{-2\\pi i n x},\\dots, e^{2\\pi i nx}\\} \\text{  }\\text{is an orthonormal basis for} \\text{ }\\mathcal{T}_n.$$"
   ]
  },
  {
   "cell_type": "markdown",
   "metadata": {},
   "source": [
    "Further, we know from b) that"
   ]
  },
  {
   "cell_type": "markdown",
   "metadata": {},
   "source": [
    "$$\\langle\\sqrt{2}\\cos(2\\pi n\\cdot), \\sqrt{2}\\cos(2\\pi m \\cdot)\\rangle = 0 \\text{  }\\text{if}\\text{  } m\\neq n,\\\\[10pt] \\quad\\langle\\sqrt{2}\\sin(2\\pi n\\cdot), \\sqrt{2}\\sin(2\\pi m \\cdot)\\rangle = 0 \\text{  }\\text{if}\\text{  } m\\neq n \\quad\\text{and}\\\\[10pt]\\langle\\sqrt{2}\\sin(2\\pi n\\cdot), \\sqrt{2}\\cos(2\\pi m \\cdot)\\rangle = 0, n \\in \\{1,2,...\\}, m \\in \\{0,1,...\\}.$$"
   ]
  },
  {
   "cell_type": "markdown",
   "metadata": {},
   "source": [
    "Therefore, we know that the set that $\\mathcal{S}_n$ already spans over, forms an orthogonal basis. Since the length of every element in an orthonormal basis has to be 1, we get that the basis for $\\mathcal{S}_n$ is "
   ]
  },
  {
   "cell_type": "markdown",
   "metadata": {},
   "source": [
    "$$\\{\\sqrt{2}\\cos(0 x),\\sqrt{2}\\cos(2\\pi x),\\dots, \\sqrt{2}\\cos(2\\pi n x),\\sqrt{2}\\sin(2\\pi x),\\sqrt{2}\\sin(2\\pi 2 x),\\dots,\\sqrt{2}\\sin(2\\pi n x)\\}.$$"
   ]
  },
  {
   "cell_type": "markdown",
   "metadata": {},
   "source": [
    "To argue that both spaces $\\mathcal{T}_n$ and $\\mathcal{S}_n$ are the same, we can use Euler's identity, which states"
   ]
  },
  {
   "cell_type": "markdown",
   "metadata": {},
   "source": [
    "$$e^{ix} = \\cos(x) + i\\sin(x).$$"
   ]
  },
  {
   "cell_type": "markdown",
   "metadata": {},
   "source": [
    "We notice that $e^{2\\pi ikx} = \\cos(2\\pi kx) + i\\sin(2\\pi kx)$ for integer values of k. Since $\\mathcal{T}_n$ is spanned by $e^{2\\pi ikx}$ for $k = -n, -n+1, \\dots, n$, and $\\mathcal{S}_n$ is spanned by $\\cos(2\\pi kx)$ for $k=0,1,\\dots,n$ and $\\sin(2\\pi kx)$ for $k=1,\\dots,n$"
   ]
  },
  {
   "cell_type": "markdown",
   "metadata": {},
   "source": [
    "We are now going to argue that both spaces are the same, i.e. $\\mathcal{T}_n = \\mathcal{S}_n$. "
   ]
  },
  {
   "cell_type": "markdown",
   "metadata": {},
   "source": [
    "We will look at two arbitrary elements in $\\mathcal{T}_n$ (with $c_k = a_k + ib_k$); $c_ke^{2\\pi ikx}$ and $c_{-k}e^{-2\\pi ikx}$. Adding these two together (and using Euler's formula $e^{ix} = \\cos x + i\\sin x$) gives"
   ]
  },
  {
   "cell_type": "markdown",
   "metadata": {},
   "source": [
    "$$c_ke^{2\\pi ikx} + c_{-k}e^{-2\\pi ikx} = c_k (\\cos(2\\pi kx) + i\\sin(2\\pi kx)) + c_{-k} (\\cos(2\\pi kx) - i\\sin(2\\pi kx)) = (a_k + ib_k)(\\cos(2\\pi kx) + i\\sin(2\\pi kx)) + (a_k - ib_k)(\\cos(2\\pi kx) - i\\sin(2\\pi kx))\\\\[10pt] = a_k\\cos(2\\pi kx) + a_k i\\sin(2\\pi kx) + ib_k\\cos(2\\pi kx) - b_k \\sin(2\\pi kx) + a_k\\cos(2\\pi kx) - a_k i\\sin(2\\pi kx) -ib_k\\cos(2\\pi kx) - b_k \\sin(2\\pi kx) \\\\[10pt] = 2a_k\\cos(2\\pi kx) - 2b_k\\sin(2\\pi kx),$$ "
   ]
  },
  {
   "cell_type": "markdown",
   "metadata": {},
   "source": [
    "that is, we can write the elements in $\\mathcal{T}_n$ by elements in $\\mathcal{S}_n$. Let's show that we can write the elements in $\\mathcal{S}_n$ as elements in $\\mathcal{T}_n$ also."
   ]
  },
  {
   "cell_type": "markdown",
   "metadata": {},
   "source": [
    "We choose two arbitrary elements in $\\mathcal{S}_n$; $a_k \\cos(2\\pi kx)$ and $b_k \\sin(2\\pi kx)$. Using $\\cos(2\\pi kx) = \\frac{1}{2}(e^{2\\pi ikx} + e^{-2\\pi ikx}) $ and $\\sin(2\\pi kx) = \\frac{1}{2i}(e^{2\\pi ikx} - e^{-2\\pi ikx})$, and adding these two together gives"
   ]
  },
  {
   "cell_type": "markdown",
   "metadata": {},
   "source": [
    "$$a_k \\cos(2\\pi kx) + b_k \\sin(2\\pi kx) = a_k \\frac{1}{2}(e^{2\\pi ikx} + e^{-2\\pi ikx}) + b_k \\frac{1}{2i}(e^{2\\pi ikx} - e^{-2\\pi ikx}) = \\frac{1}{2}\\left(a_ke^{2\\pi ikx} +  a_ke^{-2\\pi ikx}\\right) + \\frac{1}{2i}(b_ke^{2\\pi ikx} - b_ke^{-2\\pi ikx}) = \\frac{1}{2}\\left( a_ke^{2\\pi ikx} +  a_ke^{-2\\pi ikx} - ib_ke^{2\\pi ikx} + ib_ke^{-2\\pi ikx}\\right) \\\\[10pt]= \\frac{1}{2}((a_k - ib_k)e^{2\\pi ikx} + (a_k + ib_k)e^{-2\\pi ikx}) = \\frac{1}{2} \\left(c_k e^{2\\pi ikx} + c_{-k}e^{-2\\pi ikx}\\right),\n",
    "$$"
   ]
  },
  {
   "cell_type": "markdown",
   "metadata": {},
   "source": [
    "if we let $c_k = a_k - ib_k$. Hence, elements in $\\mathcal{S}_n$ can be written as elements in $\\mathcal{T}_n$. The two spaces are equal."
   ]
  },
  {
   "cell_type": "markdown",
   "metadata": {},
   "source": [
    "The dimension of $\\mathcal{T}_n$ is $2n + 1$ because of $2n+1$ linearly independent elements in the span."
   ]
  },
  {
   "cell_type": "markdown",
   "metadata": {},
   "source": [
    "d) In this task, we will use the representation of $\\mathcal{S}_n$ from *c)* to prove that the Fourier coefficients $a_0, a_1, \\dots, a_n, b_1, \\dots, b_n$ of a function $f \\in \\mathcal{S}_n$ can be computed as"
   ]
  },
  {
   "cell_type": "markdown",
   "metadata": {},
   "source": [
    "$$a_k = 2\\langle f,\\cos(2\\pi k \\cdot)\\rangle = 2\\int_{-\\frac{1}{2}}^{\\frac{1}{2}}f(x) \\cos(2\\pi kx) dx,\\quad k = 0,1,\\dots,n \\tag{2}$$"
   ]
  },
  {
   "cell_type": "markdown",
   "metadata": {},
   "source": [
    "and"
   ]
  },
  {
   "cell_type": "markdown",
   "metadata": {},
   "source": [
    "$$b_k = 2\\langle f,\\sin(2\\pi k \\cdot)\\rangle = 2\\int_{-\\frac{1}{2}}^{\\frac{1}{2}}f(x) \\sin(2\\pi kx) dx,\\quad k = 1,\\dots,n,\\tag{3}$$"
   ]
  },
  {
   "cell_type": "markdown",
   "metadata": {},
   "source": [
    "where we might write $a_k(f)$ and $b_k(f)$ to emphasize that these are the coefficients belonging to $f$."
   ]
  },
  {
   "cell_type": "markdown",
   "metadata": {},
   "source": [
    "We will start by proving $(2)$. Let's start by computing the inner product."
   ]
  },
  {
   "cell_type": "markdown",
   "metadata": {},
   "source": [
    "$$\\langle f,\\cos(2\\pi k \\cdot)\\rangle = \\int_0^1f(x)\\cos(2\\pi kx) dx$$"
   ]
  },
  {
   "cell_type": "markdown",
   "metadata": {},
   "source": [
    "Now, let's substitute in $f(x)$ from its representation in $\\mathcal{S}_n$: "
   ]
  },
  {
   "cell_type": "markdown",
   "metadata": {},
   "source": [
    "$$\\langle f,\\cos(2\\pi k \\cdot)\\rangle = \\int_0^1\\left(\\dfrac{a_0}{2} + \\sum_{j=1}^na_j\\cos(2\\pi jx) + b_j\\sin(2\\pi jx)\\right)\\cos(2\\pi kx)dx = \\int_0^1\\left(\\dfrac{a_0}{2}\\cos(2\\pi kx) + \\sum_{j=1}^na_j\\cos(2\\pi jx)\\cos(2\\pi kx) + b_j\\sin(2\\pi jx)\\cos(2\\pi kx)\\right)dx \\\\= \\int_0^1\\left(\\dfrac{a_0}{2}\\cos(2\\pi kx) + \\sum_{j=1}^na_j\\cos(2\\pi jx)\\cos(2\\pi kx)\\right) dx = \\dfrac{a_0\\sin(2\\pi k)}{4\\pi k} + \\dfrac{a_k}{2} = 0 + \\dfrac{a_k}{2}\\tag{4},$$"
   ]
  },
  {
   "cell_type": "markdown",
   "metadata": {},
   "source": [
    "where the last equality comes from that we know that $\\sin(2\\pi k) = 0$ for all $k \\in  \\{1,\\dots,n\\}$ and $\\langle\\cos(2\\pi jx),\\cos(2\\pi kx)\\rangle = 0 \\quad\\forall j \\neq k$. Further, we know from *b)* that $\\int_0^1\\cos(2\\pi kx)\\cos(2\\pi kx)dx = \\frac{1}{2}$. In addition, we know that the integral of an odd function over one period equals 0. Therefore, we know that the $b_k$ term becomes 0 after the integration. $(4)$ then gives ut that"
   ]
  },
  {
   "cell_type": "markdown",
   "metadata": {},
   "source": [
    "$$a_k = 2 \\langle f,\\cos(2\\pi k \\cdot)\\rangle = 2\\int_0^1f(x)\\cos(2\\pi kx) dx = 2\\int_{-\\frac{1}{2}}^{\\frac{1}{2}}f(x)\\cos(2\\pi kx) dx,\\qquad k = 0,1,\\dots,n\\quad\\square"
   ]
  },
  {
   "cell_type": "markdown",
   "metadata": {},
   "source": [
    "where we could change the limits of the integral due to the periodicity."
   ]
  },
  {
   "cell_type": "markdown",
   "metadata": {},
   "source": [
    "Now, let's prove $(3)$. We can use the same procedure here as in the previous proof. We start by computing the inner product"
   ]
  },
  {
   "cell_type": "markdown",
   "metadata": {},
   "source": [
    "$$\\langle f,\\sin(2\\pi k \\cdot)\\rangle = \\int_{-\\frac{1}{2}}^{\\frac{1}{2}}f(x)\\sin(2\\pi kx) dx,\\quad k = 1,\\dots,n.$$"
   ]
  },
  {
   "cell_type": "markdown",
   "metadata": {},
   "source": [
    "Note that we can integrate from $-\\frac{1}{2}$ to $\\frac{1}{2}$ due to periodicity and we ignore $k=0$ because $\\sin(0) = 0$."
   ]
  },
  {
   "cell_type": "markdown",
   "metadata": {},
   "source": [
    "As we did before, let's substitute in $f(x)$ from its representation in $\\mathcal{S}_n$:"
   ]
  },
  {
   "cell_type": "markdown",
   "metadata": {},
   "source": [
    "$$\\langle f,\\sin(2\\pi k \\cdot)\\rangle = \\int_{-\\frac{1}{2}}^{\\frac{1}{2}}\\left(\\dfrac{a_0}{2} + \\sum_{j=1}^na_j\\cos(2\\pi jx) + b_j\\sin(2\\pi jx)\\right)\\sin(2\\pi kx)dx = \\int_{-\\frac{1}{2}}^{\\frac{1}{2}}\\left(\\dfrac{a_0}{2}\\sin(2\\pi kx) + \\sum_{j=1}^na_j\\cos(2\\pi jx)\\sin(2\\pi kx) + b_j\\sin(2\\pi jx)\\sin(2\\pi kx)\\right)dx \\\\ = \\int_{-\\frac{1}{2}}^{\\frac{1}{2}}\\left(\\dfrac{a_0}{2}\\sin(2\\pi kx) + \\sum_{j=1}^n b_j\\sin(2\\pi jx)\\sin(2\\pi kx)\\right)dx = 0 + \\dfrac{b_k}{2}"
   ]
  },
  {
   "cell_type": "markdown",
   "metadata": {},
   "source": [
    "The last equality comes from that we know that $\\langle\\sin(2\\pi jx),\\sin(2\\pi kx)\\rangle = 0 \\quad\\forall j \\neq k $. The $a_0$-term because zero because we integrate over one period and the second integral we know from *b)* to equal $\\frac{1}{2}$."
   ]
  },
  {
   "cell_type": "markdown",
   "metadata": {},
   "source": [
    "Therefore, we get that"
   ]
  },
  {
   "cell_type": "markdown",
   "metadata": {},
   "source": [
    "$$\\langle f,\\sin(2\\pi k \\cdot)\\rangle = \\int_{-\\frac{1}{2}}^{\\frac{1}{2}}f(x)\\sin(2\\pi kx) dx,\\quad k = 1,\\dots,n.\\quad\\square$$"
   ]
  },
  {
   "cell_type": "markdown",
   "metadata": {},
   "source": [
    "e) Now, we want to use equidistant points $x_0,\\dots,x_{N-1},x_j=\\frac{j}{N}, j = 0,\\dots, N,$ for some $N \\in \\N$ to approximate the integral required for the Fourier coefficients $c_k(f)$ of a function $f$ from the equation $$c_k = c_k(f) = \\langle f,e^{2\\pi i k\\cdot}\\rangle = \\int_{-\\frac{1}{2}}^{\\frac{1}{2}} f(x)e^{-2\\pi i kx}dx,\\quad k = -n,\\dots,n\\tag{5}$$"
   ]
  },
  {
   "cell_type": "markdown",
   "metadata": {},
   "source": [
    "We use the notation $f_j=f(x_j)$ and $\\bm{f} = (f_0,\\dots,f_{N-1})$. We will use the trapezoidal rule to show that we will obtain"
   ]
  },
  {
   "cell_type": "markdown",
   "metadata": {},
   "source": [
    "$$c_k(f) \\approx \\hat{f_k} := \\dfrac{1}{N}\\sum_{j=0}^{N-1}f_je^{-2\\pi ijk/N},$$"
   ]
  },
  {
   "cell_type": "markdown",
   "metadata": {},
   "source": [
    "and show that $\\hat{f_k}$ are $N$ periodic."
   ]
  },
  {
   "cell_type": "markdown",
   "metadata": {},
   "source": [
    "The composite trapezoidal rule states that"
   ]
  },
  {
   "cell_type": "markdown",
   "metadata": {},
   "source": [
    "$$\\int_a^bf(x)dx = \\dfrac{1}{2} \\sum_{j=1}^{N}(x_j-x_{j-1})(f(x_{j-1})+f(x_j))$$"
   ]
  },
  {
   "cell_type": "markdown",
   "metadata": {},
   "source": [
    "In our case we have that $(x_j-x_{j-1})=\\frac{1}{N}$. We also consider the fourier coefficients on the interval $[0,1)$ instead. By applying the trapezoidal rule on $(5)$ we get"
   ]
  },
  {
   "cell_type": "markdown",
   "metadata": {},
   "source": [
    "$$\\int_0^1 f(x)e^{-2\\pi ikx}dx \\approx \\dfrac{1}{N}\\left(\\dfrac{f_0}{2} + \\sum_{j =1}^{N-1}f_je^{-2\\pi ijk/N} + \\dfrac{f_N}{2}\\right)$$"
   ]
  },
  {
   "cell_type": "markdown",
   "metadata": {},
   "source": [
    "We know that $f(x)$ is periodic, meaning that $f_0=f_N$. This gives us that"
   ]
  },
  {
   "cell_type": "markdown",
   "metadata": {},
   "source": [
    "$$\\hat{f_k} := \\dfrac{1}{N}\\sum_{j=0}^{N-1}f_je^{-2\\pi ijk/N},$$"
   ]
  },
  {
   "cell_type": "markdown",
   "metadata": {},
   "source": [
    "and therefore the approximation"
   ]
  },
  {
   "cell_type": "markdown",
   "metadata": {},
   "source": [
    "$$c_k(f) \\approx \\hat{f_k} := \\dfrac{1}{N}\\sum_{j=0}^{N-1}f_je^{-2\\pi ijk/N}.$$"
   ]
  },
  {
   "cell_type": "markdown",
   "metadata": {},
   "source": [
    "Further, we have to show that $\\hat{f_k}$ is N periodic. We start by looking at what $\\hat{f_k}_{+N}$ looks like."
   ]
  },
  {
   "cell_type": "markdown",
   "metadata": {},
   "source": [
    "$$\\hat{f_k}_{+N} = \\dfrac{1}{N}\\sum_{j=0}^{N-1}f_je^{-2\\pi ij(k+N)/N} = \\dfrac{1}{N}\\sum_{j=0}^{N-1}f_je^{-2\\pi ijk/N}e^{-2\\pi ijN/N} = \\dfrac{1}{N}\\sum_{j=0}^{N-1}f_je^{-2\\pi ijk/N}e^{-2\\pi ij} = \\dfrac{1}{N}\\sum_{j=0}^{N-1}f_je^{-2\\pi ijk/N},$$"
   ]
  },
  {
   "cell_type": "markdown",
   "metadata": {},
   "source": [
    "where the last equality comes from that we know that $e^{-2\\pi ij} = 1\\text{   }\\forall j \\in \\N$. Hence, $\\hat{f_k}$ is N periodic."
   ]
  },
  {
   "cell_type": "markdown",
   "metadata": {},
   "source": [
    "f) Let $N \\in \\N$ and $k \\in \\Z$ be given. We will prove that"
   ]
  },
  {
   "cell_type": "markdown",
   "metadata": {},
   "source": [
    "$$\\dfrac{1}{N}\\sum_{j=0}^{N-1}e^{-2\\pi i jk/N} = \\begin{cases} 1 & \\text{if } k \\text{ mod } N \\equiv 0, \\\\ 0 & \\text{else.} \\end{cases}$$"
   ]
  },
  {
   "cell_type": "markdown",
   "metadata": {},
   "source": [
    "We start by proving that the sum gives $1$ if $k \\text{ mod } N \\equiv 0$. If $k \\text{ mod } N \\equiv 0$, we know that $k = qN$ for some $q \\in \\Z$. Therefore, the sum can be written as"
   ]
  },
  {
   "cell_type": "markdown",
   "metadata": {},
   "source": [
    "$$\\dfrac{1}{N}\\sum_{j=0}^{N-1}e^{-2\\pi i jqN/N} = \\dfrac{1}{N}\\sum_{j=0}^{N-1}e^{-2\\pi i jq}  $$"
   ]
  },
  {
   "cell_type": "markdown",
   "metadata": {},
   "source": [
    "We know that $e^{-2\\pi i jq}$ becomes $1$ for all $q \\in \\Z$ and $j \\in \\N$. Hence, the sum reduces to"
   ]
  },
  {
   "cell_type": "markdown",
   "metadata": {},
   "source": [
    "$$\\dfrac{1}{N}\\sum_{j=0}^{N-1}1 = \\dfrac{1}{N} N = \\underline{1}.$$"
   ]
  },
  {
   "cell_type": "markdown",
   "metadata": {},
   "source": [
    "Now, we have to show that the sum equals zero if $k \\text{ mod } N \\cancel{\\equiv} \\text{  }0$. We know that a finite geometric sum can be written as"
   ]
  },
  {
   "cell_type": "markdown",
   "metadata": {},
   "source": [
    "$$\\sum_{k=0}^{n-1}ar^k = a\\dfrac{1-r^n}{1-r}, \\quad \\text{for } r\\neq 1.$$"
   ]
  },
  {
   "cell_type": "markdown",
   "metadata": {},
   "source": [
    "We can then rewrite the sum of the geometric series as a geometric sum."
   ]
  },
  {
   "cell_type": "markdown",
   "metadata": {},
   "source": [
    "$$\\dfrac{1}{N}\\sum_{j=0}^{N-1}e^{-2\\pi i jk/N} = \\dfrac{1}{N}\\dfrac{1-e^{-2\\pi i kN/N}}{1- e^{-2\\pi i k/N}} = \\dfrac{1}{N}\\dfrac{1-1}{1- e^{-2\\pi i k/N}} = \\dfrac{1}{N}\\dfrac{0}{1- e^{-2\\pi i k/N}} = \\underline{0}.$$"
   ]
  },
  {
   "cell_type": "markdown",
   "metadata": {},
   "source": [
    "Thus,"
   ]
  },
  {
   "cell_type": "markdown",
   "metadata": {},
   "source": [
    "$$\\dfrac{1}{N}\\sum_{j=0}^{N-1}e^{-2\\pi i jk/N} = \\begin{cases} 1 & \\text{if } k \\text{ mod } N \\equiv 0, \\\\ 0 & \\text{else.} \\end{cases}\\quad\\quad\\square$$"
   ]
  },
  {
   "cell_type": "markdown",
   "metadata": {},
   "source": [
    "g) In this task we will prove that the Fourier matrix $\\mathcal{F}_N$ diagonalizes the circulant matrix, i.e. using $\\hat{\\boldsymbol{a}} = \\mathcal{F}_N \\boldsymbol{a}$ we get"
   ]
  },
  {
   "cell_type": "markdown",
   "metadata": {},
   "source": [
    "$$ \\text{circ } \\boldsymbol{a} = \\dfrac{1}{N}\\overline{\\mathcal{F}_N} \\text{ diag } (\\hat{\\boldsymbol{a}}) \\mathcal{F}_N$$ "
   ]
  },
  {
   "cell_type": "markdown",
   "metadata": {},
   "source": [
    "We have that"
   ]
  },
  {
   "cell_type": "markdown",
   "metadata": {},
   "source": [
    "$$\\mathcal{F}_N = (e^{-2\\pi i kl/N})_{k,l=0}^{N-1}$$"
   ]
  },
  {
   "cell_type": "markdown",
   "metadata": {},
   "source": [
    "We define $\\omega = e^{-2\\pi i /N}$. This results in"
   ]
  },
  {
   "cell_type": "markdown",
   "metadata": {},
   "source": [
    "$$\\mathcal{F}_N = (\\omega ^{kl})_{k,l=0}^{N-1}$$"
   ]
  },
  {
   "cell_type": "markdown",
   "metadata": {},
   "source": [
    "$$\\hat{\\boldsymbol{a}} = \\mathcal{F}_N \\boldsymbol{a} \\rightarrow \\hat{\\boldsymbol{a}}_k = \\sum_{j=0}^{N-1}a_j \\omega^{kj}$$"
   ]
  },
  {
   "cell_type": "markdown",
   "metadata": {},
   "source": [
    "Further, wehn we multiply a diagonal matrix with another matrix $(DA)$, every element of first row of $A$ is multiplied by the first entry of D and soforth. Hence, we get"
   ]
  },
  {
   "cell_type": "markdown",
   "metadata": {},
   "source": [
    "$$\\text{diag }\\hat{\\boldsymbol{a}} \\mathcal{F}_N =\\left( \\sum_{j=0}^{N-1}a_j \\omega^{kj}e^{kl}\\right)_{k,l=0}^{N-1}$$"
   ]
  },
  {
   "cell_type": "markdown",
   "metadata": {},
   "source": [
    "$$ \\overline{\\mathcal{F}_N}\\left( \\sum_{j=0}^{N-1}a_j \\omega^{kj}e^{kl}\\right)_{k,l=0}^{N-1} = \\left(\\sum_{q=0}^{N-1} \\omega^{-kq} \\sum_{j=0}^{N-1}a_j \\omega^{qj}\\omega^{ql}\\right)_{k,l=0}^{N-1},$$"
   ]
  },
  {
   "cell_type": "markdown",
   "metadata": {},
   "source": [
    "where k is fixed and we iterate over q. q represents columns in the first sum. Further we know that $\\omega^{ql}$ is not dependent on the j, so we get"
   ]
  },
  {
   "cell_type": "markdown",
   "metadata": {},
   "source": [
    "$$\\left(\\sum_{q=0}^{N-1} \\omega^{-kq} \\omega^{ql}\\sum_{j=0}^{N-1}a_j \\omega^{qj}\\right)_{k,l=0}^{N-1} = \\left(\\sum_{q=0}^{N-1} \\omega^{q(l-k)}\\sum_{j=0}^{N-1}a_j \\omega^{qj}\\right)_{k,l=0}^{N-1} = \\left(\\sum_{q=0}^{N-1}\\sum_{j=0}^{N-1} \\omega^{q(l-k)}a_j \\omega^{qj}\\right)_{k,l=0}^{N-1}\\\\[10pt] = \\left(\\sum_{j=0}^{N-1}a_j\\sum_{q=0}^{N-1} \\omega^{q(l+j-k)} \\right)_{k,l=0}^{N-1} = \\begin{cases} a_j & \\text{if } (l+j-k) \\text{ mod } N \\equiv 0, \\\\ 0 & \\text{else.} \\end{cases},$$"
   ]
  },
  {
   "cell_type": "markdown",
   "metadata": {},
   "source": [
    "where the last equality comes from the previous task. Hence, by the property of the circulant matrix, we know that this last expression equals a circulant matrix."
   ]
  },
  {
   "cell_type": "markdown",
   "metadata": {},
   "source": [
    "We are also going to derive an expression for $\\mathcal{F}_N^{-1}$."
   ]
  },
  {
   "cell_type": "markdown",
   "metadata": {},
   "source": [
    "Since $$ \\mathcal{F}_N^T = \\mathcal{F}_N, $$ we know that $$ \\mathcal{F}_N^H = \\overline{\\mathcal{F}_N}.$$"
   ]
  },
  {
   "cell_type": "markdown",
   "metadata": {},
   "source": [
    "Thus,"
   ]
  },
  {
   "cell_type": "markdown",
   "metadata": {},
   "source": [
    "$$\\mathcal{F}_N^{-1} = \\mathcal{F}_N^{H} = \\overline{\\mathcal{F}_N} = \\left(e^{2\\pi ikl/N}\\right)_{k,l=0}^{N-1}$$"
   ]
  },
  {
   "cell_type": "markdown",
   "metadata": {},
   "source": [
    "h) We are defining a function **transform** that we will use to compute the DFT using **scipy.fft.fft**. The function, as well as the imaginary and real parts of the DFT are displayed for four different functions with three different number of samples."
   ]
  },
  {
   "cell_type": "code",
   "execution_count": null,
   "metadata": {},
   "outputs": [],
   "source": [
    "def transform(f, N, start=0.0):\n",
    "    # Create an array of N equidistant points\n",
    "    x = np.linspace(start, start + 1.0, N, endpoint=False)\n",
    "\n",
    "    # Evaluate the function at the points\n",
    "    f_values = f(x)\n",
    "\n",
    "    # Compute the DFT using SciPy's FFT function\n",
    "    f_hat = scipy.fft.fft(f_values)\n",
    "    x = np.linspace(start, start + 1.0, N, endpoint=True)       # Redefine x to include endpoint\n",
    "    return x, f_values, f_hat"
   ]
  },
  {
   "cell_type": "code",
   "execution_count": null,
   "metadata": {},
   "outputs": [],
   "source": [
    "def plot_f_value_f_hat(f,N):\n",
    "\n",
    "    x, f_values, f_hat = transform(f, N, -0.5)\n",
    "\n",
    "    # Create a figure with 1 row and 2 columns of subplots\n",
    "    fig, axes = plt.subplots(nrows=1, ncols=2, figsize=(12, 4))\n",
    "\n",
    "    # Plot the original function on the first subplot (axes[0])\n",
    "    axes[0].plot(x, f_values, color=\"green\", label=\"function\")\n",
    "    axes[0].set_title(f\"Function {f.__name__} with N={N}\")\n",
    "    axes[0].legend()\n",
    "\n",
    "\n",
    "    # Plot the real and imaginary parts of the DFT on the second subplot (axes[1])\n",
    "    axes[1].plot(x, np.real(f_hat), color=\"red\", label=\"real\")\n",
    "    axes[1].plot(x, np.imag(f_hat), color=\"blue\", label=\"imaginary\")\n",
    "    axes[1].set_title(f\"DFT of {f.__name__} with N={N}\")\n",
    "    axes[1].legend()\n",
    "   \n",
    "    # plt.tight_layout()\n",
    "    plt.show()\n"
   ]
  },
  {
   "cell_type": "code",
   "execution_count": null,
   "metadata": {},
   "outputs": [],
   "source": [
    "# defining the functions\n",
    "\n",
    "def f1(x):\n",
    "    return np.sin(8*np.pi*x)\n",
    "\n",
    "def f2(x):\n",
    "    return np.sin(32*np.pi*x) + np.cos(128*np.pi*x)\n",
    "\n",
    "def f3(x):\n",
    "    return x\n",
    "\n",
    "def f4(x):\n",
    "    return 1 - np.abs(x)\n"
   ]
  },
  {
   "cell_type": "code",
   "execution_count": null,
   "metadata": {},
   "outputs": [],
   "source": [
    "plot_f_value_f_hat(f1, 5)\n",
    "plot_f_value_f_hat(f1,17)\n",
    "plot_f_value_f_hat(f1,257)"
   ]
  },
  {
   "cell_type": "code",
   "execution_count": null,
   "metadata": {},
   "outputs": [],
   "source": [
    "plot_f_value_f_hat(f2, 5)\n",
    "plot_f_value_f_hat(f2,17)\n",
    "plot_f_value_f_hat(f2,257)"
   ]
  },
  {
   "cell_type": "code",
   "execution_count": null,
   "metadata": {},
   "outputs": [],
   "source": [
    "plot_f_value_f_hat(f3, 5)\n",
    "plot_f_value_f_hat(f3,17)\n",
    "plot_f_value_f_hat(f3,257)"
   ]
  },
  {
   "cell_type": "code",
   "execution_count": null,
   "metadata": {},
   "outputs": [],
   "source": [
    "plot_f_value_f_hat(f4, 5)\n",
    "plot_f_value_f_hat(f4,17)\n",
    "plot_f_value_f_hat(f4,257)\n"
   ]
  },
  {
   "cell_type": "markdown",
   "metadata": {},
   "source": [
    "We can see that $\\boldsymbol{f}$ approximates $f$ well for $f_1$ with $N = 257$, $f_2$ with $N = 257$, $f_4$ for $N = 257$ and for all $N$ for $f_3$."
   ]
  },
  {
   "cell_type": "markdown",
   "metadata": {},
   "source": [
    "i) Now we are going to plot the discrete Fourier coefficients of $f_2$, i.e. $ \\hat{\\boldsymbol{f}} $, after applying **fftshift**. We are plotting the result for $N = 17,65,257 $."
   ]
  },
  {
   "cell_type": "code",
   "execution_count": null,
   "metadata": {},
   "outputs": [],
   "source": [
    "def plot_with_shift(f,N):\n",
    "\n",
    "    x, f_values, f_hat = transform(f, N, -0.5)\n",
    "\n",
    "    # Shift the DFT so that the zero frequency is in the middle\n",
    "    f_hat_shift = scipy.fft.fftshift(f_hat)\n",
    "\n",
    "    # Create a figure with 1 row and 2 columns of subplots\n",
    "    fig, axes = plt.subplots(nrows=1, ncols=2, figsize=(12, 4))\n",
    "\n",
    "    # Plot the original function on the first subplot (axes[0])\n",
    "    axes[0].plot(x, f_values, color=\"green\", label=\"function\")\n",
    "    axes[0].set_title(f\"Function {f.__name__} with N={N}\")\n",
    "    axes[0].legend()\n",
    "\n",
    "\n",
    "    # Plot the real and imaginary parts of the DFT on the second subplot (axes[1])\n",
    "    axes[1].plot(x, np.real(f_hat_shift), color=\"red\", label=\"real\")\n",
    "    axes[1].plot(x, np.imag(f_hat_shift), color=\"blue\", label=\"imaginary\")\n",
    "    axes[1].set_title(f\"DFT of shiftet {f.__name__} with N={N}\")\n",
    "    axes[1].legend()\n",
    "\n",
    "    # plt.tight_layout()\n",
    "    plt.show()\n"
   ]
  },
  {
   "cell_type": "code",
   "execution_count": null,
   "metadata": {},
   "outputs": [],
   "source": [
    "plot_with_shift(f2,17)\n",
    "plot_with_shift(f2,65)\n",
    "plot_with_shift(f2,257)"
   ]
  },
  {
   "cell_type": "markdown",
   "metadata": {},
   "source": [
    "We can find $a_k(f_2)$ and $b_k(f_2)$ from comparing $f_2$ with the Fourier series. Hence, we can see that we have $a_k = 1$ for $k = 64$ and $b_k =1$ for $k = 16$. "
   ]
  },
  {
   "cell_type": "markdown",
   "metadata": {},
   "source": [
    "Furthermore, we can compute $c_k(f_2)$ from the known equations"
   ]
  },
  {
   "cell_type": "markdown",
   "metadata": {},
   "source": [
    "$$a_k = c_k + c_{-k}\\qquad\\text{and}\\qquad b_k = i(c_k-c_{-k}).$$"
   ]
  },
  {
   "cell_type": "markdown",
   "metadata": {},
   "source": [
    "Solving for $c_k$ and $c_{-k}$ gives "
   ]
  },
  {
   "cell_type": "markdown",
   "metadata": {},
   "source": [
    "$$c_k = \\dfrac{1}{2}(a_k-i b_k)\\qquad\\text{and}\\qquad c_{-k} = \\dfrac{1}{2}(a_k+ib_k)$$"
   ]
  },
  {
   "cell_type": "markdown",
   "metadata": {},
   "source": [
    "Inserting for $a_k = 1$ for $k = 64$ and $b_k =1$ for $k = 16$ gives"
   ]
  },
  {
   "cell_type": "markdown",
   "metadata": {},
   "source": [
    "$$c_{-64} = \\dfrac{1}{2},\\quad c_{-16} = \\dfrac{i}{2},\\quad c_{16} = -\\dfrac{i}{2}\\quad \\text{and}\\quad c_{64} =\\dfrac{1}{2}.$$"
   ]
  },
  {
   "cell_type": "markdown",
   "metadata": {},
   "source": [
    "The **fftshift-function** shifts the zero frequency componenent to the center. We can clearly see this from the plot in this task. The FFT originally returns the $c_k$'s in the order $c_0, c_1, \\dots, c_{N/2}, c_{-N/2}, c_{-N/2-1},\\dots,c_{-1}$. By applying **fftshift** we are changing the order of the $c_k$'s to $c_{-N/2}, \\dots, c_0, c_1, \\dots, c_{N/2}.$"
   ]
  },
  {
   "cell_type": "markdown",
   "metadata": {},
   "source": [
    "We can \"remove\" the second summand of $f_2$ by removing the coefficients corresponding to the cosine part of the Fourier series, i.e. we can just remove $c_{-16}$ and $c_{16}$ in the frequency domain. Afterwards, we can inverse transform from the frequency domain."
   ]
  },
  {
   "cell_type": "markdown",
   "metadata": {},
   "source": [
    "We cannot do this for $N= 16$, i.e. $\\hat{\\boldsymbol{f}} \\in \\mathbb{C} ^{17}$, because every element in $\\mathbb{C} ^{17}$ contains part of the second summond..\n"
   ]
  },
  {
   "cell_type": "markdown",
   "metadata": {},
   "source": [
    "#### **Task 2: Signal Processing**"
   ]
  },
  {
   "cell_type": "markdown",
   "metadata": {},
   "source": [
    "a) In this task I will explain what happens with $\\boldsymbol{c} = \\boldsymbol{a} * \\boldsymbol{b}$ if we use a shifted version $\\boldsymbol{b}' = (b_{N-1}, b_0,\\dots,b_{N-2}))$."
   ]
  },
  {
   "cell_type": "markdown",
   "metadata": {},
   "source": [
    "For $j = 0,\\dots, N-1$ we have that"
   ]
  },
  {
   "cell_type": "markdown",
   "metadata": {},
   "source": [
    "$$(\\boldsymbol{a} * \\boldsymbol{b})_j = \\sum_{k=0}^{N-1} a_k b_{j-k \\mod N}$$"
   ]
  },
  {
   "cell_type": "markdown",
   "metadata": {},
   "source": [
    "For a shifted version we get"
   ]
  },
  {
   "cell_type": "markdown",
   "metadata": {},
   "source": [
    "$$(\\boldsymbol{a} * \\boldsymbol{b}')_j = \\sum_{k=0}^{N-1} a_k b_{j-k \\mod N}'$$"
   ]
  },
  {
   "cell_type": "markdown",
   "metadata": {},
   "source": [
    "When $j = 0$:"
   ]
  },
  {
   "cell_type": "markdown",
   "metadata": {},
   "source": [
    "$$(\\boldsymbol{a} * \\boldsymbol{b}')_0 = \\sum_{k=0}^{N-1} a_k b_{0-k \\mod N}' = \\sum_{k=0}^{N-1} a_k b_{N-1-k \\mod N}$$"
   ]
  },
  {
   "cell_type": "markdown",
   "metadata": {},
   "source": [
    "When $j = 1$:"
   ]
  },
  {
   "cell_type": "markdown",
   "metadata": {},
   "source": [
    "$$(\\boldsymbol{a} * \\boldsymbol{b}')_1 = \\sum_{k=0}^{N-1} a_k b_{1-k \\mod N}' = \\sum_{k=0}^{N-1} a_k b_{0-k \\mod N}$$"
   ]
  },
  {
   "cell_type": "markdown",
   "metadata": {},
   "source": [
    "If we continue this process for all values of $j$, we will find that $\\boldsymbol{c}'$ is shifted to the right by one position compared to $\\boldsymbol{c}$."
   ]
  },
  {
   "cell_type": "markdown",
   "metadata": {},
   "source": [
    "b) We will know prove that for $f,g \\in L_1(\\mathbb{T})$ we have that for any $k \\in \\Z$ that"
   ]
  },
  {
   "cell_type": "markdown",
   "metadata": {},
   "source": [
    "$$c_k(f * g) = c_k(f)c_k(g).$$"
   ]
  },
  {
   "cell_type": "markdown",
   "metadata": {},
   "source": [
    "$$c_k(f*g) = \\int_0^1\\left(\\int_0^1 f(y) g(x-y) dy \\right)e^{-2\\pi i kx} dx$$"
   ]
  },
  {
   "cell_type": "markdown",
   "metadata": {},
   "source": [
    "where we can use Fubine so that we get"
   ]
  },
  {
   "cell_type": "markdown",
   "metadata": {},
   "source": [
    "$$\\int_0^1\\int_0^1 f(y) g(x-y) e^{-2\\pi i kx} \\;dy \\:dx = \\int_0^1\\int_0^1 f(y) g(x-y) e^{-2\\pi i kx}e^{-2\\pi i ky}e^{2\\pi i ky} \\;dy \\:dx = \\int_0^1\\int_0^1 f(y) g(x-y) e^{-2\\pi i ky}e^{-2\\pi i k(x-y)} \\;dy \\:dx$$"
   ]
  },
  {
   "cell_type": "markdown",
   "metadata": {},
   "source": [
    "By letting $u = x-y$ we get"
   ]
  },
  {
   "cell_type": "markdown",
   "metadata": {},
   "source": [
    "$$\\int_0^1\\int_0^1 f(y) g(u) e^{-2\\pi i ky}e^{-2\\pi i ku} \\;du \\:dx = \\int_0^1 f(y) e^{-2\\pi i ky} dy \\int_0^1 g(u) e^{-2\\pi i ku} du = c_k(f) c_k (g) \\quad\\square$$"
   ]
  },
  {
   "cell_type": "markdown",
   "metadata": {},
   "source": [
    "Similarly, we also want to prove this for signals, i.e."
   ]
  },
  {
   "cell_type": "markdown",
   "metadata": {},
   "source": [
    "$$(\\boldsymbol{a} * \\boldsymbol{b})\\hat{} = \\hat{\\boldsymbol{a}} \\circ \\hat{\\boldsymbol{b}}. $$"
   ]
  },
  {
   "cell_type": "markdown",
   "metadata": {},
   "source": [
    "Let's start with the definition of the DFT:\n",
    "\n",
    "For a signal $a$ of length $N$, its DFT $\\hat{a}$ is given by:\n",
    "\n",
    "$$\n",
    "\\hat{a}_k = \\sum_{n=0}^{N-1} a_n e^{-2\\pi i \\frac{kn}{N}}\n",
    "$$"
   ]
  },
  {
   "cell_type": "markdown",
   "metadata": {},
   "source": [
    "Now, consider the convolution of two signals $a$ and $b$:\n",
    "\n",
    "$$\n",
    "(a * b)_j = \\sum_{k=0}^{N-1} a_k b_{j-k \\mod N}\n",
    "$$\n",
    "\n",
    "We want to compute the DFT of $(a * b)$, which is $(a * b)^\\wedge$. Using the definition of the DFT:"
   ]
  },
  {
   "cell_type": "markdown",
   "metadata": {},
   "source": [
    "$$\n",
    "\\begin{aligned}\n",
    "(a * b)^\\wedge_k &=  \\sum_{n=0}^{N-1} (a * b)_n e^{-2\\pi i \\frac{kn}{N}} \\\\\n",
    "&=  \\sum_{n=0}^{N-1} \\left(\\sum_{m=0}^{N-1} a_m b_{n-m \\mod N}\\right) e^{-2\\pi i \\frac{kn}{N}}\n",
    "\\end{aligned}\n",
    "$$\n"
   ]
  },
  {
   "cell_type": "markdown",
   "metadata": {},
   "source": [
    "Now, we can rearrange the order of summation (which is valid due to linearity) and factor out $a_m$ and $e^{-2\\pi i \\frac{km}{N}}$:"
   ]
  },
  {
   "cell_type": "markdown",
   "metadata": {},
   "source": [
    "$$\n",
    "\\begin{aligned}\n",
    "(a * b)^\\wedge_k &=  \\sum_{n=0}^{N-1} \\left(\\sum_{m=0}^{N-1} a_m b_{n-m \\mod N}\\right) e^{-2\\pi i \\frac{kn}{N}} \\\\\n",
    "&=  \\sum_{m=0}^{N-1} a_m \\left(\\sum_{n=0}^{N-1} b_{n-m \\mod N} e^{-2\\pi i \\frac{kn}{N}}\\right) e^{-2\\pi i \\frac{km}{N}}\n",
    "\\end{aligned}\n",
    "$$\n"
   ]
  },
  {
   "cell_type": "markdown",
   "metadata": {},
   "source": [
    "Notice that the inner sum in parentheses is essentially the DFT of the shifted signal $b_{n-m \\mod N}$. Let's denote this as $\\hat{b}_{k,m}$:\n",
    "\n",
    "$$\n",
    "\\hat{b}_{k,m} =  \\sum_{n=0}^{N-1} b_{n-m \\mod N} e^{-2\\pi i \\frac{kn}{N}}\n",
    "$$"
   ]
  },
  {
   "cell_type": "markdown",
   "metadata": {},
   "source": [
    "Now, we can simplify the expression for $(a * b)^\\wedge_k$:\n",
    "\n",
    "$$\n",
    "(a * b)^\\wedge_k =  \\sum_{m=0}^{N-1} a_m \\hat{b}_{k,m} e^{-2\\pi i \\frac{km}{N}} =  \\left( \\sum_{m=0}^{N-1} a_m e^{-2\\pi i \\frac{km}{N}}\\right) \\left( \\sum_{m=0}^{N-1} \\hat{b}_{k,m} e^{-2\\pi i \\frac{km}{N}}\\right)\n",
    "$$"
   ]
  },
  {
   "cell_type": "markdown",
   "metadata": {},
   "source": [
    "The expressions in parentheses are the DFTs of $a$ and $\\hat{b}$, respectively:\n",
    "\n",
    "$$\n",
    " \\sum_{m=0}^{N-1} a_m e^{-2\\pi i \\frac{km}{N}} = \\hat{a}_k\n",
    "$$\n",
    "\n",
    "$$\n",
    " \\sum_{m=0}^{N-1} \\hat{b}_{k,m} e^{-2\\pi i \\frac{km}{N}} = \\hat{b}_k\n",
    "$$"
   ]
  },
  {
   "cell_type": "markdown",
   "metadata": {},
   "source": [
    "So, we have:\n",
    "\n",
    "$$\n",
    "(a * b)^\\wedge_k = \\hat{a}_k \\cdot \\hat{b}_k = \\hat{a} \\circ \\hat{b}\n",
    "$$\n"
   ]
  },
  {
   "cell_type": "markdown",
   "metadata": {},
   "source": [
    "c) I will compute the Fourier coefficient $c_k(D_n)$"
   ]
  },
  {
   "cell_type": "markdown",
   "metadata": {},
   "source": [
    "$$c_k(D_n) = \\int_0^1 D_n(x)e^{-2\\pi ikx} dx = \\int_0^1 \\left(1+ 2\\sum_{p=1}^n \\cos(2\\pi px)\\right) e^{-2 \\pi i kx} dx = \\int_0^1 \\left(e^{-2 \\pi i kx} + 2\\sum_{p=1}^n \\cos(2\\pi px)e^{-2 \\pi i kx}\\right) dx = \\int_0^1 2\\sum_{p=1}^n \\cos(2\\pi px)e^{-2 \\pi i kx} dx \\\\ = \\int_0^1 2 \\sum_{p=1}^n \\cos(2\\pi px)(\\cos(2\\pi kx) - i\\sin(2\\pi kx)) dx = \\int_0^1 2 \\sum_{p=1}^n \\cos(2\\pi px)\\cos(2\\pi kx) dx = \\begin{cases} 1 & \\text{if } p = k \\\\ 0 & \\text{else,} \\end{cases}$$"
   ]
  },
  {
   "cell_type": "markdown",
   "metadata": {},
   "source": [
    "where the last equality comes from task 1b)."
   ]
  },
  {
   "cell_type": "markdown",
   "metadata": {},
   "source": [
    "When we want to use the equidistant sampled $d_j$ as a filter, it is easier to define it directly in the discrete Fourier domain $\\hat{\\boldsymbol{d}}$. This is because we have just computed that the Fourier coefficients of the Dirichlet kernel is either 0 or 1. By using that the convolution in time turns into multiplication in frequency domain (that we showed in 2b)), we can convolute the discrete dirichlet kernel with a signal by multiplicating in the frequency domain. Hence, if we are in the frequency domain, we are essentially just multiplying the signal with 0's or 1's. This is much easier than to convolute the discrete dirichlet kernel with the signal."
   ]
  },
  {
   "cell_type": "markdown",
   "metadata": {},
   "source": [
    "d) We are again considering the function $f_2$ as in task 1h). We are sampling this function with $N = 512$ samples and convolving the sampled signal with the Dirichlet kernel $D_n, n = 48$."
   ]
  },
  {
   "cell_type": "code",
   "execution_count": null,
   "metadata": {},
   "outputs": [],
   "source": [
    "N = 512     # number of samples    \n",
    "n = 48      # degree of Dirichlet kernel\n",
    "\n",
    "\n",
    "f2_transformed = transform(f2, N, -0.5)[2]          # We only need the DFT, not the other values\n",
    "dirichlet_kernel_fft = np.zeros(N)\n",
    "\n",
    "# We can set these values to 1 by knowing what the discrete dirichlet kernel looks like in the frequency domain\n",
    "dirichlet_kernel_fft[int(N/2-n-1):int(N/2+n)] = 1\n",
    "\n",
    "# Shifting the dirichlet kernel so that the values of the transformed function and the kernel are aligned\n",
    "dirichlet_kernel_fft = scipy.fft.fftshift(dirichlet_kernel_fft)\n",
    "\n",
    "\n",
    "convolution = scipy.fft.fftshift(f2_transformed) * scipy.fft.fftshift(dirichlet_kernel_fft)\n",
    "\n",
    "# We have to shift the convolution back to the original position\n",
    "convolution = scipy.fft.ifftshift(convolution)\n",
    "\n",
    "# transform back to the time domain\n",
    "convolution = scipy.fft.ifft(convolution)\n",
    "\n",
    "# Creating array for plotting\n",
    "x = np.linspace(0, 1, N)\n",
    "\n",
    "# plotting\n",
    "plt.figure(figsize=(12, 6))\n",
    "plt.subplot(211)\n",
    "plt.plot(x, f2(x), color=\"blue\", label=\"f2(x)\")\n",
    "plt.title(\"Original Function f2(x)\")\n",
    "plt.legend()\n",
    "\n",
    "\n",
    "\n",
    "plt.subplot(212)\n",
    "plt.plot(x, np.real(convolution), color=\"green\", label=\"Convolution\")\n",
    "plt.title(\"Convolution of f2 with Dirichlet Kernel\")\n",
    "plt.legend()\n",
    "\n",
    "plt.tight_layout()      # Makes sure that the plots don't overlap\n",
    "\n",
    "plt.show()"
   ]
  },
  {
   "cell_type": "markdown",
   "metadata": {},
   "source": [
    "We see that the dirichlet kernel \"smooths\" out the function $f_2$ with a reduced high-frequency content. This is because the Dirichlet kernel works as a low-pass filter."
   ]
  },
  {
   "cell_type": "markdown",
   "metadata": {},
   "source": [
    "e) In this task we are going to consider the signal from the file *project1-1e-data.csv* convolved with the dirichlet kernel $D_{92}$ and $\\boldsymbol{h} = (-1,2,-1,\\dots,0)^T \\in \\R^N$, where $N$ is the length of the signal from the file."
   ]
  },
  {
   "cell_type": "code",
   "execution_count": null,
   "metadata": {},
   "outputs": [],
   "source": [
    "# function for reading the csv file and saving to array\n",
    "def file_to_signal_array(file_path):\n",
    "    with open(file_path, mode='r') as file:\n",
    "        csv_reader = csv.reader(file)\n",
    "        next(csv_reader)\n",
    "        signal = []\n",
    "        for row in csv_reader:\n",
    "            signal.append(float(row[1]))\n",
    "    return np.array(signal)\n",
    "\n",
    "csv_file = 'project1-1e-data.csv'             # Path to the CSV file\n",
    "signal = file_to_signal_array(csv_file)\n",
    "\n",
    "# Number of samples\n",
    "N_samples = len(signal)\n",
    "\n",
    "\n",
    "n = 92 # the n in the Dirichlet kernel\n",
    "\n",
    "\n",
    "# Define the h kernel\n",
    "h_kernel = np.zeros(N_samples)\n",
    "h_kernel[0] = -1\n",
    "h_kernel[1] = 2\n",
    "h_kernel[2] = -1\n",
    "\n",
    "# Compute the Fourier transforms of the signal, Dirichlet kernel, and h kernel\n",
    "signal_fft = scipy.fft.fft(signal)\n",
    "dirichlet_kernel_fft = np.zeros(N_samples)\n",
    "dirichlet_kernel_fft[int(N_samples/2-n-1):int(N_samples/2+n)] = 1           # easier to set the DFT values of the dirichlet kernel to 1 instead of computing the DFT of the dirichlet kernel\n",
    "h_kernel_fft = scipy.fft.fft(h_kernel, N_samples)\n",
    "dirichlet_kernel_fft = scipy.fft.fftshift(dirichlet_kernel_fft)\n",
    "\n",
    "\n",
    "# Perform convolution in the frequency domain\n",
    "convolution_dirichlet_fft = signal_fft * dirichlet_kernel_fft\n",
    "convolution_h_fft = signal_fft * h_kernel_fft\n",
    "\n",
    "\n",
    "# Compute the inverse Fourier transforms to get the convolution results\n",
    "convolution_dirichlet = np.real(scipy.fft.ifft(convolution_dirichlet_fft))\n",
    "convolution_h = np.real(scipy.fft.ifft(convolution_h_fft))\n",
    "\n",
    "\n",
    "# Plotting\n",
    "x_vals = np.linspace(0, 1, N_samples)\n",
    "\n",
    "plt.figure(figsize=(12, 6))\n",
    "plt.subplot(2, 2, 1)\n",
    "plt.plot(x_vals, signal, color=\"blue\", label=\"signal\")\n",
    "plt.title(\"Original signal\")\n",
    "plt.legend()\n",
    "\n",
    "plt.subplot(2, 2, 2)\n",
    "plt.plot(x_vals, signal, color=\"blue\", label=\"signal\")\n",
    "plt.title(\"Original signal\")\n",
    "plt.legend()\n",
    "\n",
    "plt.subplot(2, 2, 3)\n",
    "plt.plot(x_vals, convolution_dirichlet, color=\"red\", label=\"convolution\")\n",
    "plt.title(\"Convolution with Dirichlet kernel\")\n",
    "plt.legend()\n",
    "\n",
    "plt.subplot(2, 2, 4)\n",
    "plt.plot(x_vals, convolution_h, color=\"red\", label=\"convolution\")\n",
    "plt.title(\"Convolution with h kernel\")\n",
    "plt.legend()\n",
    "\n",
    "plt.tight_layout()\n",
    "\n",
    "plt.show()"
   ]
  },
  {
   "cell_type": "markdown",
   "metadata": {},
   "source": [
    "We can see from the figures above, that the two filters have different effects on the sampled signal. The convolution with the Dirichlet kernel \"smooths\" out the original signal. It reduces the high frequency signals, so that the lower frequency signals are more prominent. It is a low-pass filter as mentioned in the previous task. The h-kernel tells us where the biggest variations in the signal appear. At those places it also tells us how big the \"jump\" relatively compared to the other jumps in the signal."
   ]
  },
  {
   "cell_type": "markdown",
   "metadata": {},
   "source": [
    "2f)"
   ]
  },
  {
   "cell_type": "markdown",
   "metadata": {},
   "source": [
    "To get a filter that does the opposite of does the \"opposite of Dirichlet\", we would have a filter that filters out the lower frequency signals. We can make a filter like this by changing all the 1's to 0's and all the 0's to 1's in the frequency domain of the Dirichlet kernel. This filter would have the opposite effect of the Dirichlet kernel."
   ]
  },
  {
   "cell_type": "markdown",
   "metadata": {},
   "source": [
    "2g)"
   ]
  },
  {
   "cell_type": "markdown",
   "metadata": {},
   "source": [
    "To design a filter that only has $ 40 \\leq |k| \\leq 64 $ , we could work with the Dirichlet kernel in the frequency domain. By transforming the dirichlet kernel to the frequency domain, we could set all of the $c_k$'s that does not fall within this interval to 0, and let all of the $c_k$'s in the interval be equal to 1. Afterwards, we can invers transform the filter if we want to work with it in the time domain. "
   ]
  },
  {
   "cell_type": "markdown",
   "metadata": {},
   "source": [
    "3a) Now we will prove that the multivariate Fourier transform can be computed in $\\mathcal{O}(N_1N_2\\log({N_1N_2}))                                                                                                                                                                                                      $  .                                                                                                  "
   ]
  },
  {
   "cell_type": "markdown",
   "metadata": {},
   "source": [
    "We have the 2d signal $F$ that can be expressed as $F(j_1,j_2)$ and we want to compute its 2D Fourier transform $\\hat{F}(k_1,k_2)$. Using the separability property, we can compute $\\hat{F}(k_1,k_2)$ like this:"
   ]
  },
  {
   "cell_type": "markdown",
   "metadata": {},
   "source": [
    "1. First we compute the 1D Fourier Transform along the first dimension $(j_1)$. Then for $k_1 = 0,1,\\dots,N_1 -1$ we will compute the 1D Fourier transform. This takes $\\mathcal{O}(N_1\\log N_1)$ for each column. We have $N_2$ columns, meaning that the Fourier Transform in the first dimension is $\\mathcal{O}(N_1N_2\\log N_1)$.\n",
    "\n",
    "2. Similary for the second dimension $(j_2)$. For each $k_2 = 0,1,\\dots,N_2 -1$ we will compute the 1D Fourier transform. This takes $\\mathcal{O}(N_2\\log N_2)$ for each row. We have $N_1$ rows, meaning that the Fourier transform in the second dimension is $\\mathcal{O}(N_1N_2\\log N_2)$."
   ]
  },
  {
   "cell_type": "markdown",
   "metadata": {},
   "source": [
    "Combining the runtimes of the 1D Fourier transform in both dimensions, gives us that the 2D Fourier transform is $\\mathcal{O}(N_1N_2\\log (N_1N_2))$. $\\quad\\square$"
   ]
  },
  {
   "cell_type": "markdown",
   "metadata": {},
   "source": [
    "3b) In this task we will plot the real part and the absolute value of the 2D Fourier transformation of a function $f$."
   ]
  },
  {
   "cell_type": "code",
   "execution_count": null,
   "metadata": {},
   "outputs": [],
   "source": [
    "\n",
    "\n",
    "# Define the function f(x)\n",
    "def f(x, k):\n",
    "    # return 1 + 0.5 * np.sin(2 * np.pi * (np.dot(k, x)))\n",
    "    return 1 + 0.5 * np.sin(2 * np.pi * (x[0].T * k[0] + x[1].T * k[1]))\n",
    "\n",
    "\n",
    "# Define the parameters\n",
    "N1 = N2 = 64\n",
    "x_range = np.linspace(0, 1, N1)\n",
    "y_range = np.linspace(0, 1, N2)\n",
    "X, Y = np.meshgrid(x_range, y_range)\n",
    "\n",
    "# List of k values\n",
    "k_values = [(5, 0), (0, 10), (8, 8)]\n",
    "\n",
    "# Initialize arrays to store results\n",
    "F_values = []\n",
    "abs_F_values = []\n",
    "\n",
    "\n",
    "# Calculate F and |Fˆ| for each k value\n",
    "for k in k_values:\n",
    "    F = np.zeros((N1, N2), dtype=np.complex128)\n",
    "    for j1 in range(N1):\n",
    "        for j2 in range(N2):\n",
    "            x = np.array([X[j1, j2], Y[j1, j2]])\n",
    "            F[j1, j2] = f(x, k)\n",
    "    \n",
    "\n",
    "    F_hat = scipy.fft.fft2(F)\n",
    "\n",
    "    abs_F_hat = np.abs(scipy.fft.fftshift(F_hat))\n",
    "\n",
    "    \n",
    "    F_values.append(F)\n",
    "    abs_F_values.append(abs_F_hat)\n",
    "\n",
    "\n",
    "# Plot the results\n",
    "for i, k in enumerate(k_values):\n",
    "    plt.figure(figsize=(12, 4))\n",
    "    \n",
    "    plt.subplot(1, 2, 1)\n",
    "    plt.imshow(np.real(F_values[i]), cmap='gray')\n",
    "    plt.title(f'Real part of F (k={k})')\n",
    "    \n",
    "    plt.subplot(1, 2, 2)\n",
    "    plt.imshow(abs_F_values[i]/(N1*N2), cmap='gray')    # Normalize by N1*N2 to get values between 0 and 1   \n",
    "    plt.title(f'Absolute value of Fˆ (k={k})')\n",
    "    \n",
    "    plt.colorbar()\n",
    "    \n",
    "    plt.show()"
   ]
  },
  {
   "cell_type": "markdown",
   "metadata": {},
   "source": [
    "3c) In this task we will take the convolution between *barbara.gif* with different kernels, including the 2D Dirichlet kernel."
   ]
  },
  {
   "cell_type": "code",
   "execution_count": null,
   "metadata": {},
   "outputs": [],
   "source": [
    "\n",
    "def Dirichlet_2D_Transformed(height, width, nx, ny):\n",
    "    \"\"\"\n",
    "    Function for creating a 2D Dirichlet kernel in the frequency domain\n",
    "\n",
    "    Parameters\n",
    "    ----------\n",
    "    height : int\n",
    "        Height of the image\n",
    "    width : int\n",
    "        Width of the image\n",
    "    nx : int\n",
    "        Degree of the Dirichlet kernel in the x direction\n",
    "    ny : int\n",
    "        Degree of the Dirichlet kernel in the y direction\n",
    "\n",
    "    Returns\n",
    "    -------\n",
    "    kernel : numpy array\n",
    "        2D Dirichlet kernel in the frequency domain\n",
    "    \"\"\"\n",
    "\n",
    "    D_x = np.zeros(height)\n",
    "    D_y = np.zeros(width)\n",
    "\n",
    "    # Inserting 1's where the Dirichlet kernel have Fourier coefficients equal to 1\n",
    "    D_x[int(height/2-nx-1):int(height/2+nx)] = 1\n",
    "    D_y[int(width/2-ny-1):int(width/2+ny)] = 1\n",
    "\n",
    "    kernel = np.zeros((height, width))\n",
    "    for i in range(height):\n",
    "        for j in range(width):\n",
    "            kernel[i,j] = D_x[i] * D_y[j]\n",
    "\n",
    "    return kernel\n",
    "\n",
    "\n",
    "# defining function for padding the kernel with zeros\n",
    "def padding_kernel(image, kernel):\n",
    "    height, width = image.shape\n",
    "    kernel_height, kernel_width = kernel.shape\n",
    "\n",
    "    kernel = np.pad(kernel, ((0, height-kernel_height), (0, width-kernel_width)), 'constant', constant_values=0)\n",
    "\n",
    "    return kernel\n",
    "\n",
    "\n",
    "# defining the kernels\n",
    "kernel1 = np.array([[0,-1,0],[-1,4,-1],[0,-1,0]])\n",
    "kernel2 = np.array([[-1,2,-1],[-1,2,-1],[-1,2,-1]])\n",
    "kernel3 = np.array([[-1,-1,-1],[2,2,2],[-1,-1,-1]])\n",
    "kernel4 = np.array([[1,2,1],[0,0,0],[-1,-2,-1]])\n",
    "kernel5 = np.array([[1,0,-1],[2,0,-2],[1,0,-1]])\n",
    "\n",
    "\n",
    "# opening the image and converting it to a numpy array\n",
    "barbara_img = Image.open('barbara.gif')\n",
    "barbara_img_array = np.array(barbara_img.convert('L'))\n",
    "height, width = barbara_img_array.shape\n",
    "\n",
    "kernel1 = padding_kernel(barbara_img_array, kernel1)\n",
    "kernel2 = padding_kernel(barbara_img_array, kernel2)\n",
    "kernel3 = padding_kernel(barbara_img_array, kernel3)\n",
    "kernel4 = padding_kernel(barbara_img_array, kernel4)\n",
    "kernel5 = padding_kernel(barbara_img_array, kernel5)\n",
    "\n",
    "\n",
    "\n",
    "# Convolution in the frequency domain between the image and the kernels\n",
    "\n",
    "barbara_img_fft = scipy.fft.fft2(barbara_img_array)\n",
    "kernel1_fft = scipy.fft.fft2(kernel1)\n",
    "kernel2_fft = scipy.fft.fft2(kernel2)\n",
    "kernel3_fft = scipy.fft.fft2(kernel3)\n",
    "kernel4_fft = scipy.fft.fft2(kernel4)\n",
    "kernel5_fft = scipy.fft.fft2(kernel5)\n",
    "\n",
    "convolution1 = np.real(scipy.fft.ifft2(barbara_img_fft * kernel1_fft))\n",
    "convolution2 = np.real(scipy.fft.ifft2(barbara_img_fft * kernel2_fft))\n",
    "convolution3 = np.real(scipy.fft.ifft2(barbara_img_fft * kernel3_fft))\n",
    "convolution4 = np.real(scipy.fft.ifft2(barbara_img_fft * kernel4_fft))\n",
    "convolution5 = np.real(scipy.fft.ifft2(barbara_img_fft * kernel5_fft))\n",
    "\n",
    "\n",
    "plt.figure(figsize=(12, 6))\n",
    "plt.subplot(2, 3, 1)\n",
    "plt.imshow(barbara_img_array, cmap='gray')\n",
    "plt.title(\"Original image\")\n",
    "\n",
    "plt.subplot(2, 3, 2)\n",
    "plt.imshow(convolution1, cmap='gray')\n",
    "plt.title(\"Convolution with kernel 1\")\n",
    "\n",
    "plt.subplot(2, 3, 3)\n",
    "plt.imshow(convolution2, cmap='gray')\n",
    "plt.title(\"Convolution with kernel 2\")\n",
    "\n",
    "plt.subplot(2, 3, 4)\n",
    "plt.imshow(convolution3, cmap='gray')\n",
    "plt.title(\"Convolution with kernel 3\")\n",
    "\n",
    "plt.subplot(2, 3, 5)\n",
    "plt.imshow(convolution4, cmap='gray')\n",
    "plt.title(\"Convolution with kernel 4\")\n",
    "\n",
    "plt.subplot(2, 3, 6)\n",
    "plt.imshow(convolution5, cmap='gray')\n",
    "plt.title(\"Convolution with kernel 5\")\n",
    "\n",
    "plt.tight_layout()\n",
    "plt.show()\n"
   ]
  },
  {
   "cell_type": "markdown",
   "metadata": {},
   "source": [
    "We see that the filters above have different effects on the image. I will discuss the first three kernels. The second kernel looks like it captures the contrasts in the image in horizontal direction, while the third kernel seems to capture the contrasts in vertical direction. In other words, we can say that the kernel 2 has edge detection in horizontal direction, while kernel 3 has edge direction in vertical direction. Kernel 1 seems to be a combination of the two, with edge detection in both horizontal and vertical direction."
   ]
  },
  {
   "cell_type": "code",
   "execution_count": null,
   "metadata": {},
   "outputs": [],
   "source": [
    "Dirichlet_64_64 = Dirichlet_2D_Transformed(height, width, 64, 64)\n",
    "\n",
    "\n",
    "\n",
    "# Convolution in the frequency domain between the image and the Dirichlet kernel\n",
    "convolution_Dirichlet_64_64 = np.real(scipy.fft.ifft2(scipy.fft.fftshift(scipy.fft.fftshift(barbara_img_fft) * Dirichlet_64_64)))\n",
    "\n",
    "plt.figure(figsize=(12, 6))\n",
    "plt.subplot(1, 2, 1)\n",
    "plt.imshow(barbara_img_array, cmap='gray')\n",
    "plt.title(\"Original image\")\n",
    "\n",
    "plt.subplot(1, 2, 2)\n",
    "plt.imshow(convolution_Dirichlet_64_64, cmap='gray')\n",
    "plt.title(\"Convolution with Dirichlet kernel\")\n",
    "\n",
    "plt.tight_layout()\n",
    "\n",
    "plt.show()\n"
   ]
  },
  {
   "cell_type": "markdown",
   "metadata": {},
   "source": [
    "The Dirichlet kernel has a blurring effect on the original image. It reduces the amount of high-frequency samples. We can still clearly see what the picture is, but it is not as sharp as the original one."
   ]
  },
  {
   "cell_type": "markdown",
   "metadata": {},
   "source": [
    "3d) In the final task of this project, I will compute and plot the amplitude of the three images, as well as removing the dot artefacts using the Fourier transform."
   ]
  },
  {
   "cell_type": "code",
   "execution_count": null,
   "metadata": {},
   "outputs": [],
   "source": [
    "def plot_amplitude_remove_dots(filename, nx, ny):\n",
    "    '''\n",
    "    Function for plotting the amplitude of the Fourier transform of an image\n",
    "    and the image convoluted with a Dirichlet kernel.\n",
    "\n",
    "    Paramters:\n",
    "    filename: name of the image file\n",
    "    nx, ny: the n'th degree Dirichlet kernel in x and y direction\n",
    "\n",
    "\n",
    "    '''\n",
    "    img = Image.open(filename)\n",
    "    img_array = np.array(img.convert('L'))\n",
    "    img_fft = scipy.fft.fft2(img_array)\n",
    "    height, width = img_array.shape\n",
    "\n",
    "    ampltitude = np.abs(img_fft)\n",
    "\n",
    "    img_fft_shift = scipy.fft.fftshift(img_fft)\n",
    "\n",
    "    dirichlet = Dirichlet_2D_Transformed(height, width, nx, ny)\n",
    "\n",
    "\n",
    "    # Compute the convolution in the frequency domain\n",
    "    convolution_Dirichlet_img = scipy.fft.fftshift(img_fft) * dirichlet\n",
    "\n",
    "    # Shift the convolution back to the original position\n",
    "    convolution_Dirichlet_img = scipy.fft.ifftshift(convolution_Dirichlet_img)\n",
    "\n",
    "    # Compute the inverse Fourier transform\n",
    "    convolution_Dirichlet_img = np.real(scipy.fft.ifft2(convolution_Dirichlet_img))\n",
    "\n",
    "    # plotting\n",
    "    plt.figure(figsize=(12, 6))\n",
    "    plt.subplot(2, 2, 1)\n",
    "    plt.imshow(img_array, cmap='gray')\n",
    "    plt.title(\"Original image\")\n",
    "\n",
    "    plt.subplot(2, 2, 2)\n",
    "    plt.imshow(img_array, cmap='gray')\n",
    "    plt.title(\"Original image\")\n",
    "    \n",
    "    plt.subplot(2,2,3)\n",
    "    plt.imshow(np.log(amplitude), cmap='gray')\n",
    "    plt.title(f\"Amplitude of Fourier Transform of {filename}\")\n",
    "\n",
    "    plt.subplot(2,2,4)\n",
    "    plt.imshow(convolution_Dirichlet_img, cmap='gray')\n",
    "    plt.title(f\"{filename} convoluted with Dirichlet kernel.\")\n",
    "\n",
    "    plt.tight_layout()\n",
    "\n",
    "    plt.show()"
   ]
  },
  {
   "cell_type": "code",
   "execution_count": null,
   "metadata": {},
   "outputs": [],
   "source": [
    "plot_amplitude_remove_dots(\"Yarimton-dithered.png\", 64, 64)"
   ]
  },
  {
   "cell_type": "code",
   "execution_count": null,
   "metadata": {},
   "outputs": [],
   "source": [
    "plot_amplitude_remove_dots(\"munkholmen-dithered.png\", 64, 64)"
   ]
  },
  {
   "cell_type": "code",
   "execution_count": null,
   "metadata": {},
   "outputs": [],
   "source": [
    "plot_amplitude_remove_dots(\"lighthouse-dithered.png\", 64, 64)"
   ]
  },
  {
   "cell_type": "markdown",
   "metadata": {},
   "source": [
    "We chose the Dirichlet kernel as the filter, because we know that the Dirichlet kernel smooths out the signal from previous tasks. In our case, the Dirichlet kernel smooths out the frequency in the picture, i.e. it smooths out the contrast found between the dots and the rest of the picture. This results in the convoluted picture having these dots \"smoothed\" out."
   ]
  }
 ],
 "metadata": {
  "kernelspec": {
   "display_name": "Python 3",
   "language": "python",
   "name": "python3"
  },
  "language_info": {
   "codemirror_mode": {
    "name": "ipython",
    "version": 3
   },
   "file_extension": ".py",
   "mimetype": "text/x-python",
   "name": "python",
   "nbconvert_exporter": "python",
   "pygments_lexer": "ipython3",
   "version": "3.11.2"
  },
  "orig_nbformat": 4
 },
 "nbformat": 4,
 "nbformat_minor": 2
}
