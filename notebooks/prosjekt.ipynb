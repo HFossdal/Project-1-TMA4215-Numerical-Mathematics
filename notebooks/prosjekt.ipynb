{
 "cells": [
  {
   "cell_type": "markdown",
   "metadata": {},
   "source": [
    "# **Project 1 TMA4215 - Numerical Mathematics**"
   ]
  },
  {
   "cell_type": "markdown",
   "metadata": {},
   "source": [
    "##### *by Håvard Fossdal*"
   ]
  },
  {
   "cell_type": "markdown",
   "metadata": {},
   "source": [
    "## introduction"
   ]
  },
  {
   "cell_type": "markdown",
   "metadata": {},
   "source": [
    "*insert reasoning for project and motivation and relevant formulas*"
   ]
  },
  {
   "cell_type": "markdown",
   "metadata": {},
   "source": [
    "#### **Task 1: The (Discrete) Fourier Transform**"
   ]
  },
  {
   "cell_type": "markdown",
   "metadata": {},
   "source": [
    "a) In this task we will consider functions $e^{2\\pi i kx}, k \\in \\Z, x \\in \\mathbb{T}$.I will prove that for any $k$, $h \\in \\mathbb{T}$ we have"
   ]
  },
  {
   "cell_type": "markdown",
   "metadata": {},
   "source": [
    "$$\\langle e^{2\\pi ik\\cdot}, e^{2\\pi ih\\cdot} \\rangle = \\begin{cases} 1 & \\text{if } k = h \\\\ 0 & \\text{else.} \\end{cases}$$\n"
   ]
  },
  {
   "cell_type": "markdown",
   "metadata": {},
   "source": [
    "We start the proof by setting up the inner product as an integral. Since we know that the function has a period of $T = 1$, we find that the integral corresponding to the inner product is"
   ]
  },
  {
   "cell_type": "markdown",
   "metadata": {},
   "source": [
    "$$\\langle e^{2\\pi ik\\cdot}, e^{2\\pi ih\\cdot} \\rangle =\\int_0^1 e^{2\\pi ik} \\cdot e^{-2\\pi ih} dx = \\int_0^1 e^{2\\pi i(k-h)} dx$$"
   ]
  },
  {
   "cell_type": "markdown",
   "metadata": {},
   "source": [
    "If  $k = 1$ the integral reduces to"
   ]
  },
  {
   "cell_type": "markdown",
   "metadata": {},
   "source": [
    "$$\\int_0^1 e^{2\\pi i \\cdot 0} dx = \\int_0^1 1 dx = 1.$$"
   ]
  },
  {
   "cell_type": "markdown",
   "metadata": {},
   "source": [
    "Hence, if k = h, the inner product $\\langle e^{2\\pi ik\\cdot}, e^{2\\pi ih\\cdot} \\rangle$ becomes $1$."
   ]
  },
  {
   "cell_type": "markdown",
   "metadata": {},
   "source": [
    "If $k\\neq h$ we get"
   ]
  },
  {
   "cell_type": "markdown",
   "metadata": {},
   "source": [
    "$$ \\int_0^1 e^{2\\pi i(k-h)} dx = \\dfrac{e^{2\\pi i x(k-h)}}{2\\pi i (k-h)}\\Big|_0^1 = \\dfrac{e^{2\\pi i (k-h)}-1}{2\\pi i (k-h)} = \\dfrac{\\cos(2\\pi(k-h)) + i \\sin(2\\pi(k-h)) - 1}{2\\pi i (k-h)} = \\dfrac{\\sin(2\\pi(k-h)) - i \\cos(2\\pi(k-h)) + i}{2\\pi(k-h)} \\tag{1}.$$"
   ]
  },
  {
   "cell_type": "markdown",
   "metadata": {},
   "source": [
    "Since $h, k \\in \\Z$, we know that $(k-h) \\in \\Z \\quad \\forall h, k \\in \\Z$. That implies that $\\sin(2\\pi(k-h)) = 0 \\quad \\forall h,k \\in \\Z$."
   ]
  },
  {
   "cell_type": "markdown",
   "metadata": {},
   "source": [
    "Furthermore, since $(k-h) \\in \\Z \\quad \\forall h,k \\in \\Z$, we know that $2\\pi(k-h)$ always will be a multiple of $2\\pi$. Hence, $\\cos(2\\pi(k-h)) = 1 \\quad\\forall h,k \\in \\Z$."
   ]
  },
  {
   "cell_type": "markdown",
   "metadata": {},
   "source": [
    "Thus, we have that"
   ]
  },
  {
   "cell_type": "markdown",
   "metadata": {},
   "source": [
    "$$(1) \\quad= \\dfrac{0-i+i}{2\\pi(k-h)} = 0 \\quad \\forall h,k \\in \\Z. \\quad \\square$$"
   ]
  },
  {
   "cell_type": "markdown",
   "metadata": {},
   "source": [
    "b) In this task we will consider functions of the form $\\sqrt(2) \\sin(2\\pi mx), m = 1,2, ..., \\cos(2\\pi 0x)$ and $\\sqrt(2) \\cos(2\\pi n x), n = 1,2,...,x \\in \\mathbb{T}$. I will prove that these functions form an orthonormal system."
   ]
  },
  {
   "cell_type": "markdown",
   "metadata": {},
   "source": [
    "* $\\langle\\sqrt{2}\\sin(2\\pi n\\cdot), \\sqrt{2}\\cos(2\\pi m \\cdot)\\rangle = 0, n \\in \\{1,2,...\\}, m \\in \\{0,1,...\\}$"
   ]
  },
  {
   "cell_type": "markdown",
   "metadata": {},
   "source": [
    "The integral resulting from the inner product is"
   ]
  },
  {
   "cell_type": "markdown",
   "metadata": {},
   "source": [
    "$$\\langle\\sqrt{2}\\sin(2\\pi n\\cdot), \\sqrt{2}\\cos(2\\pi m \\cdot)\\rangle = 2 \\int_0^1 \\sin(2\\pi nx)\\cos(2\\pi m x)dx.$$"
   ]
  },
  {
   "cell_type": "markdown",
   "metadata": {},
   "source": [
    "$\\sqrt{2}\\sin(2\\pi nx)$ is an odd function over the interval $\\mathbb{T}$, and $\\sqrt{2}\\cos(2\\pi m x)$ is an even function over the same interval. Therefore, the product of the two functions equals an odd function. We are essentially taking the integral of an odd function over one period, which we know equals zero. Therefore, the inner product of the two functions equals zero. $\\quad\\square$"
   ]
  },
  {
   "cell_type": "markdown",
   "metadata": {},
   "source": [
    "* $\\langle\\sqrt{2}\\sin(2\\pi n\\cdot), \\sqrt{2}\\sin(2\\pi m \\cdot)\\rangle = \\begin{cases} 0 & \\text{if } m \\neq n, \\\\ 1 & \\text{if } m = n,\\end{cases} \\quad m,n \\in \\{1,2,...\\}$"
   ]
  },
  {
   "cell_type": "markdown",
   "metadata": {},
   "source": [
    "The integral resulting from the inner product is"
   ]
  },
  {
   "cell_type": "markdown",
   "metadata": {},
   "source": [
    "$$\\langle\\sqrt{2}\\sin(2\\pi n\\cdot), \\sqrt{2}\\sin(2\\pi m \\cdot)\\rangle = 2\\int_0^1 \\sin(2\\pi n x) \\sin(2\\pi m x)dx$$"
   ]
  },
  {
   "cell_type": "markdown",
   "metadata": {},
   "source": [
    "Using the trigonometric identity    $ \\sin\\theta \\sin\\phi = \\dfrac{\\cos(\\theta-\\phi) - \\cos(\\theta + \\phi)}{2}\\quad$, we get that"
   ]
  },
  {
   "cell_type": "markdown",
   "metadata": {},
   "source": [
    "$$2\\int_0^1 \\sin(2\\pi n x) \\sin(2\\pi m x)dx = \\int_0^1 \\left(\\cos(2\\pi x(n-m)) - \\cos(2\\pi x (n+m))\\right)dx$$"
   ]
  },
  {
   "cell_type": "markdown",
   "metadata": {},
   "source": [
    "If $m = n $, we get that"
   ]
  },
  {
   "cell_type": "markdown",
   "metadata": {},
   "source": [
    "$$\\int_0^1 \\left(\\cos(2\\pi x(n-m)) - \\cos(2\\pi x (n+m))\\right)dx = \\int_0^1 \\left(1 - \\cos(4\\pi x n\\right) dx = \\left(x-\\dfrac{\\sin(4\\pi xn)}{4\\pi n}\\right)\\Bigg|_0^1 = \\dfrac{4\\pi n - \\sin(4\\pi n)}{4\\pi n}.$$"
   ]
  },
  {
   "cell_type": "markdown",
   "metadata": {},
   "source": [
    "Because $\\sin(4\\pi n) = 0, \\quad\\forall n \\in \\{1,2,...\\}$, the expression reduces to"
   ]
  },
  {
   "cell_type": "markdown",
   "metadata": {},
   "source": [
    "$$\\dfrac{4\\pi n - 0}{4\\pi n}  = 1.$$"
   ]
  },
  {
   "cell_type": "markdown",
   "metadata": {},
   "source": [
    "If $m \\neq n$ we get "
   ]
  },
  {
   "cell_type": "markdown",
   "metadata": {},
   "source": [
    "$$\\int_0^1 \\left(\\cos(2\\pi x(n-m)) - \\cos(2\\pi x (n+m))\\right)dx = \\left(\\dfrac{\\sin(2\\pi x(n-m))}{2\\pi(n-m)} - \\dfrac{\\sin(2\\pi x(n+m))}{2\\pi(n+m)}\\right)\\Bigg|_0^1 = \\dfrac{\\sin(2\\pi (n-m))}{2\\pi(n-m)} - \\dfrac{\\sin(2\\pi (n+m))}{2\\pi(n+m)}.$$"
   ]
  },
  {
   "cell_type": "markdown",
   "metadata": {},
   "source": [
    "We know that $(n+m), (n-m) \\in \\Z \\quad \\forall m,n \\in \\{1,2,...\\}.$ Hence, $2\\pi(n-m)$ and $2\\pi(n-m)$ will always be a multiple of $2\\pi$. Thus, "
   ]
  },
  {
   "cell_type": "markdown",
   "metadata": {},
   "source": [
    "$$ \\dfrac{\\sin(2\\pi (n-m))}{2\\pi(n-m)} - \\dfrac{\\sin(2\\pi (n+m))}{2\\pi(n+m)} = \\dfrac{0}{2\\pi(n-m)}- \\dfrac{0}{2\\pi(n+m)} = 0.$$"
   ]
  },
  {
   "cell_type": "markdown",
   "metadata": {},
   "source": [
    "Thus, we have shown that"
   ]
  },
  {
   "cell_type": "markdown",
   "metadata": {},
   "source": [
    "$$\\langle\\sqrt{2}\\sin(2\\pi n\\cdot), \\sqrt{2}\\sin(2\\pi m \\cdot)\\rangle = \\begin{cases} 0 & \\text{if } m \\neq n, \\\\ 1 & \\text{if } m = n,\\end{cases} \\quad m,n \\in \\{1,2,...\\}\\quad\\square$$"
   ]
  },
  {
   "cell_type": "markdown",
   "metadata": {},
   "source": [
    "* $\\langle\\sqrt{2}\\cos(2\\pi n\\cdot), \\sqrt{2}\\cos(2\\pi m \\cdot)\\rangle = \\begin{cases} 0 & \\text{if } m \\neq n, \\\\ 1 & \\text{if } m = n \\neq 0,\\\\ 2 & \\text{if } m = n = 0,\\end{cases} \\quad m,n \\in \\{0,1,...\\}$"
   ]
  },
  {
   "cell_type": "markdown",
   "metadata": {},
   "source": [
    "The integral corresponding to the inner product is"
   ]
  },
  {
   "cell_type": "markdown",
   "metadata": {},
   "source": [
    "$$\\langle\\sqrt{2}\\cos(2\\pi n\\cdot), \\sqrt{2}\\cos(2\\pi m \\cdot)\\rangle = 2\\int_0^1 \\cos(2\\pi nx) \\cos(2\\pi mx) dx$$"
   ]
  },
  {
   "cell_type": "markdown",
   "metadata": {},
   "source": [
    "Using the trigonometric identity $\\cos\\theta\\cos\\phi = \\frac{\\cos(\\theta-\\phi) + \\cos(\\theta + \\phi)}{2}$, we get"
   ]
  },
  {
   "cell_type": "markdown",
   "metadata": {},
   "source": [
    "$$2\\int_0^1 \\cos(2\\pi nx) \\cos(2\\pi mx) dx = \\int_0^1 \\left(\\cos(2\\pi x(n-m)) + \\cos(2\\pi x(n+m))\\right)dx.$$"
   ]
  },
  {
   "cell_type": "markdown",
   "metadata": {},
   "source": [
    "If $m \\neq n$, we get"
   ]
  },
  {
   "cell_type": "markdown",
   "metadata": {},
   "source": [
    "$$\\int_0^1 \\left(\\cos(2\\pi x(n-m)) + \\cos(2\\pi x(n+m))\\right)dx =  \\left(\\dfrac{\\sin(2\\pi x(n-m))}{2\\pi(n-m)} + \\dfrac{\\sin(2\\pi x(n+m))}{2\\pi(n+m)}\\right)\\Bigg|_0^1 = \\dfrac{\\sin(2\\pi (n-m))}{2\\pi(n-m)} + \\dfrac{\\sin(2\\pi (n+m))}{2\\pi(n+m)}.$$"
   ]
  },
  {
   "cell_type": "markdown",
   "metadata": {},
   "source": [
    "By the same reasoning as in the previous inner product when $m \\neq n$, we know that both $\\sin(2\\pi (n-m))$ and $\\sin(2\\pi (n+m))$ equal zero for all $m,n \\in \\{0,1,...\\}$."
   ]
  },
  {
   "cell_type": "markdown",
   "metadata": {},
   "source": [
    "If $m=n\\neq 0$ we get "
   ]
  },
  {
   "cell_type": "markdown",
   "metadata": {},
   "source": [
    "$$\\int_0^1 \\left(\\cos(2\\pi x(n-m)) + \\cos(2\\pi x(n+m))\\right)dx = \\int_0^1 \\left(1 + \\cos(4\\pi xn)\\right)dx = \\left(x+\\dfrac{\\sin(4\\pi nx)}{4\\pi n}\\right)\\Bigg|_0^1 = 1 - \\dfrac{\\sin(4\\pi n)}{4\\pi n}.$$"
   ]
  },
  {
   "cell_type": "markdown",
   "metadata": {},
   "source": [
    "We already now that $\\sin(4\\pi n) = 0 \\quad \\forall n \\in \\{0,1,...\\}$. Hence, we get"
   ]
  },
  {
   "cell_type": "markdown",
   "metadata": {},
   "source": [
    "$$1 - \\dfrac{0}{4\\pi n} = 1.$$ "
   ]
  },
  {
   "cell_type": "markdown",
   "metadata": {},
   "source": [
    "If $m = n = 0$ we get"
   ]
  },
  {
   "cell_type": "markdown",
   "metadata": {},
   "source": [
    "$$\\int_0^1 \\left(\\cos(2\\pi x(n-m)) + \\cos(2\\pi x(n+m))\\right)dx = \\int_0^1 \\left(\\cos(0) + \\cos(0)\\right)dx = \\int_0^1 2 dx = 2.$$"
   ]
  },
  {
   "cell_type": "markdown",
   "metadata": {},
   "source": [
    "Thus, we get"
   ]
  },
  {
   "cell_type": "markdown",
   "metadata": {},
   "source": [
    "$$\\langle\\sqrt{2}\\cos(2\\pi n\\cdot), \\sqrt{2}\\cos(2\\pi m \\cdot)\\rangle = \\begin{cases} 0 & \\text{if } m \\neq n, \\\\ 1 & \\text{if } m = n \\neq 0,\\\\ 2 & \\text{if } m = n = 0,\\end{cases} \\quad m,n \\in \\{0,1,...\\} \\quad\\square$$"
   ]
  }
 ],
 "metadata": {
  "language_info": {
   "name": "python"
  },
  "orig_nbformat": 4
 },
 "nbformat": 4,
 "nbformat_minor": 2
}
