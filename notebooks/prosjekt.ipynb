{
 "cells": [
  {
   "cell_type": "markdown",
   "metadata": {},
   "source": [
    "# **Project 1 TMA4215 - Numerical Mathematics**"
   ]
  },
  {
   "cell_type": "markdown",
   "metadata": {},
   "source": [
    "##### *by Håvard Fossdal*"
   ]
  },
  {
   "cell_type": "markdown",
   "metadata": {},
   "source": [
    "## introduction"
   ]
  },
  {
   "cell_type": "markdown",
   "metadata": {},
   "source": [
    "*insert reasoning for project and motivation and relevant formulas*"
   ]
  },
  {
   "cell_type": "markdown",
   "metadata": {},
   "source": [
    "#### **Task 1: The (Discrete) Fourier Transform**"
   ]
  },
  {
   "cell_type": "markdown",
   "metadata": {},
   "source": [
    "a) In this task we will consider functions $e^{2\\pi i kx}, k \\in \\Z, x \\in \\mathbb{T}$.I will prove that for any $k$, $h \\in \\mathbb{T}$ we have"
   ]
  },
  {
   "cell_type": "markdown",
   "metadata": {},
   "source": [
    "$$\\langle e^{2\\pi ik\\cdot}, e^{2\\pi ih\\cdot} \\rangle = \\begin{cases} 1 & \\text{if } k = h \\\\ 0 & \\text{else.} \\end{cases}$$\n"
   ]
  },
  {
   "cell_type": "markdown",
   "metadata": {},
   "source": [
    "We start the proof by setting up the inner product as an integral. Since we know that the function has a period of $T = 1$, we find that the integral corresponding to the inner product is"
   ]
  },
  {
   "cell_type": "markdown",
   "metadata": {},
   "source": [
    "$$\\langle e^{2\\pi ik\\cdot}, e^{2\\pi ih\\cdot} \\rangle =\\int_0^1 e^{2\\pi ik} \\cdot e^{-2\\pi ih} dx = \\int_0^1 e^{2\\pi i(k-h)} dx$$"
   ]
  },
  {
   "cell_type": "markdown",
   "metadata": {},
   "source": [
    "If  $k = 1$ the integral reduces to"
   ]
  },
  {
   "cell_type": "markdown",
   "metadata": {},
   "source": [
    "$$\\int_0^1 e^{2\\pi i \\cdot 0} dx = \\int_0^1 1 dx = 1.$$"
   ]
  },
  {
   "cell_type": "markdown",
   "metadata": {},
   "source": [
    "Hence, if k = h, the inner product $\\langle e^{2\\pi ik\\cdot}, e^{2\\pi ih\\cdot} \\rangle$ becomes $1$."
   ]
  },
  {
   "cell_type": "markdown",
   "metadata": {},
   "source": [
    "If $k\\neq h$ we get"
   ]
  },
  {
   "cell_type": "markdown",
   "metadata": {},
   "source": []
  }
 ],
 "metadata": {
  "language_info": {
   "name": "python"
  },
  "orig_nbformat": 4
 },
 "nbformat": 4,
 "nbformat_minor": 2
}
