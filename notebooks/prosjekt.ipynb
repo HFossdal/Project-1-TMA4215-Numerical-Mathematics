{
 "cells": [
  {
   "cell_type": "markdown",
   "metadata": {},
   "source": [
    "# **Project 1 TMA4215 - Numerical Mathematics**"
   ]
  },
  {
   "cell_type": "markdown",
   "metadata": {},
   "source": [
    "##### *by Håvard Fossdal*"
   ]
  },
  {
   "cell_type": "markdown",
   "metadata": {},
   "source": [
    "## introduction"
   ]
  },
  {
   "cell_type": "markdown",
   "metadata": {},
   "source": [
    "*insert reasoning for project and motivation and relevant formulas*"
   ]
  },
  {
   "cell_type": "markdown",
   "metadata": {},
   "source": [
    "#### **Task 1: The (Discrete) Fourier Transform**"
   ]
  },
  {
   "cell_type": "markdown",
   "metadata": {},
   "source": [
    "a) In this task we will consider functions $e^{2\\pi i kx}, k \\in \\Z, x \\in \\mathbb{T}$.I will prove that for any $k$, $h \\in \\mathbb{T}$ we have"
   ]
  },
  {
   "cell_type": "markdown",
   "metadata": {},
   "source": [
    "$$\\langle e^{2\\pi ik\\cdot}, e^{2\\pi ih\\cdot} \\rangle = \\begin{cases} 1 & \\text{if } k = h \\\\ 0 & \\text{else.} \\end{cases}$$\n"
   ]
  },
  {
   "cell_type": "markdown",
   "metadata": {},
   "source": [
    "We start the proof by setting up the inner product as an integral. Since we know that the function has a period of $T = 1$, we find that the integral corresponding to the inner product is"
   ]
  },
  {
   "cell_type": "markdown",
   "metadata": {},
   "source": [
    "$$\\langle e^{2\\pi ik\\cdot}, e^{2\\pi ih\\cdot} \\rangle =\\int_0^1 e^{2\\pi ik} \\cdot e^{-2\\pi ih} dx = \\int_0^1 e^{2\\pi i(k-h)} dx$$"
   ]
  },
  {
   "cell_type": "markdown",
   "metadata": {},
   "source": [
    "If  $k = 1$ the integral reduces to"
   ]
  },
  {
   "cell_type": "markdown",
   "metadata": {},
   "source": [
    "$$\\int_0^1 e^{2\\pi i \\cdot 0} dx = \\int_0^1 1 dx = 1.$$"
   ]
  },
  {
   "cell_type": "markdown",
   "metadata": {},
   "source": [
    "Hence, if k = h, the inner product $\\langle e^{2\\pi ik\\cdot}, e^{2\\pi ih\\cdot} \\rangle$ becomes $1$."
   ]
  },
  {
   "cell_type": "markdown",
   "metadata": {},
   "source": [
    "If $k\\neq h$ we get"
   ]
  },
  {
   "cell_type": "markdown",
   "metadata": {},
   "source": [
    "$$ \\int_0^1 e^{2\\pi i(k-h)} dx = \\dfrac{e^{2\\pi i x(k-h)}}{2\\pi i (k-h)}\\Big|_0^1 = \\dfrac{e^{2\\pi i (k-h)}-1}{2\\pi i (k-h)} = \\dfrac{\\cos(2\\pi(k-h)) + i \\sin(2\\pi(k-h)) - 1}{2\\pi i (k-h)} = \\dfrac{\\sin(2\\pi(k-h)) - i \\cos(2\\pi(k-h)) + i}{2\\pi(k-h)} \\tag{1}.$$"
   ]
  },
  {
   "cell_type": "markdown",
   "metadata": {},
   "source": [
    "Since $h, k \\in \\Z$, we know that $(k-h) \\in \\Z \\quad \\forall h, k \\in \\Z$. That implies that $\\sin(2\\pi(k-h)) = 0 \\quad \\forall h,k \\in \\Z$."
   ]
  },
  {
   "cell_type": "markdown",
   "metadata": {},
   "source": [
    "Furthermore, since $(k-h) \\in \\Z \\quad \\forall h,k \\in \\Z$, we know that $2\\pi(k-h)$ always will be a multiple of $2\\pi$. Hence, $\\cos(2\\pi(k-h)) = 1 \\quad\\forall h,k \\in \\Z$."
   ]
  },
  {
   "cell_type": "markdown",
   "metadata": {},
   "source": [
    "Thus, we have that"
   ]
  },
  {
   "cell_type": "markdown",
   "metadata": {},
   "source": [
    "$$(1) \\quad= \\dfrac{0-i+i}{2\\pi(k-h)} = 0 \\quad \\forall h,k \\in \\Z. \\quad \\square$$"
   ]
  },
  {
   "cell_type": "markdown",
   "metadata": {},
   "source": [
    "b) In this task we will consider functions of the form $\\sqrt(2) \\sin(2\\pi mx), m = 1,2, ..., \\cos(2\\pi 0x)$ and $\\sqrt(2) \\cos(2\\pi n x), n = 1,2,...,x \\in \\mathbb{T}$. I will prove that these functions form an orthonormal system."
   ]
  },
  {
   "cell_type": "markdown",
   "metadata": {},
   "source": [
    "* $\\langle\\sqrt{2}\\sin(2\\pi n\\cdot), \\sqrt{2}\\cos(2\\pi m \\cdot)\\rangle = 0, n \\in \\{1,2,...\\}, m \\in \\{0,1,...\\}$"
   ]
  },
  {
   "cell_type": "markdown",
   "metadata": {},
   "source": [
    "The integral resulting from the inner product is"
   ]
  },
  {
   "cell_type": "markdown",
   "metadata": {},
   "source": [
    "$$\\langle\\sqrt{2}\\sin(2\\pi n\\cdot), \\sqrt{2}\\cos(2\\pi m \\cdot)\\rangle = 2 \\int_0^1 \\sin(2\\pi nx)\\cos(2\\pi m x)dx.$$"
   ]
  },
  {
   "cell_type": "markdown",
   "metadata": {},
   "source": [
    "$\\sqrt{2}\\sin(2\\pi nx)$ is an odd function over the interval $\\mathbb{T}$, and $\\sqrt{2}\\cos(2\\pi m x)$ is an even function over the same interval. Therefore, the product of the two functions equals an odd function. We are essentially taking the integral of an odd function over one period, which we know equals zero. Therefore, the inner product of the two functions equals zero. $\\quad\\square$"
   ]
  },
  {
   "cell_type": "markdown",
   "metadata": {},
   "source": [
    "* $\\langle\\sqrt{2}\\sin(2\\pi n\\cdot), \\sqrt{2}\\sin(2\\pi m \\cdot)\\rangle = \\begin{cases} 0 & \\text{if } m \\neq n, \\\\ 1 & \\text{if } m = n,\\end{cases} \\quad m,n \\in \\{1,2,...\\}$"
   ]
  },
  {
   "cell_type": "markdown",
   "metadata": {},
   "source": [
    "The integral resulting from the inner product is"
   ]
  },
  {
   "cell_type": "markdown",
   "metadata": {},
   "source": [
    "$$\\langle\\sqrt{2}\\sin(2\\pi n\\cdot), \\sqrt{2}\\sin(2\\pi m \\cdot)\\rangle = 2\\int_0^1 \\sin(2\\pi n x) \\sin(2\\pi m x)dx$$"
   ]
  },
  {
   "cell_type": "markdown",
   "metadata": {},
   "source": [
    "Using the trigonometric identity    $ \\sin\\theta \\sin\\phi = \\dfrac{\\cos(\\theta-\\phi) - \\cos(\\theta + \\phi)}{2}\\quad$, we get that"
   ]
  },
  {
   "cell_type": "markdown",
   "metadata": {},
   "source": [
    "$$2\\int_0^1 \\sin(2\\pi n x) \\sin(2\\pi m x)dx = \\int_0^1 \\left(\\cos(2\\pi x(n-m)) - \\cos(2\\pi x (n+m))\\right)dx$$"
   ]
  },
  {
   "cell_type": "markdown",
   "metadata": {},
   "source": [
    "If $m = n $, we get that"
   ]
  },
  {
   "cell_type": "markdown",
   "metadata": {},
   "source": [
    "$$\\int_0^1 \\left(\\cos(2\\pi x(n-m)) - \\cos(2\\pi x (n+m))\\right)dx = \\int_0^1 \\left(1 - \\cos(4\\pi x n\\right) dx = \\left(x-\\dfrac{\\sin(4\\pi xn)}{4\\pi n}\\right)\\Bigg|_0^1 = \\dfrac{4\\pi n - \\sin(4\\pi n)}{4\\pi n}.$$"
   ]
  },
  {
   "cell_type": "markdown",
   "metadata": {},
   "source": [
    "Because $\\sin(4\\pi n) = 0, \\quad\\forall n \\in \\{1,2,...\\}$, the expression reduces to"
   ]
  },
  {
   "cell_type": "markdown",
   "metadata": {},
   "source": [
    "$$\\dfrac{4\\pi n - 0}{4\\pi n}  = 1.$$"
   ]
  },
  {
   "cell_type": "markdown",
   "metadata": {},
   "source": [
    "If $m \\neq n$ we get "
   ]
  },
  {
   "cell_type": "markdown",
   "metadata": {},
   "source": [
    "$$\\int_0^1 \\left(\\cos(2\\pi x(n-m)) - \\cos(2\\pi x (n+m))\\right)dx = \\left(\\dfrac{\\sin(2\\pi x(n-m))}{2\\pi(n-m)} - \\dfrac{\\sin(2\\pi x(n+m))}{2\\pi(n+m)}\\right)\\Bigg|_0^1 = \\dfrac{\\sin(2\\pi (n-m))}{2\\pi(n-m)} - \\dfrac{\\sin(2\\pi (n+m))}{2\\pi(n+m)}.$$"
   ]
  },
  {
   "cell_type": "markdown",
   "metadata": {},
   "source": [
    "We know that $(n+m), (n-m) \\in \\Z \\quad \\forall m,n \\in \\{1,2,...\\}.$ Hence, $2\\pi(n-m)$ and $2\\pi(n-m)$ will always be a multiple of $2\\pi$. Thus, "
   ]
  },
  {
   "cell_type": "markdown",
   "metadata": {},
   "source": [
    "$$ \\dfrac{\\sin(2\\pi (n-m))}{2\\pi(n-m)} - \\dfrac{\\sin(2\\pi (n+m))}{2\\pi(n+m)} = \\dfrac{0}{2\\pi(n-m)}- \\dfrac{0}{2\\pi(n+m)} = 0.$$"
   ]
  },
  {
   "cell_type": "markdown",
   "metadata": {},
   "source": [
    "Thus, we have shown that"
   ]
  },
  {
   "cell_type": "markdown",
   "metadata": {},
   "source": [
    "$$\\langle\\sqrt{2}\\sin(2\\pi n\\cdot), \\sqrt{2}\\sin(2\\pi m \\cdot)\\rangle = \\begin{cases} 0 & \\text{if } m \\neq n, \\\\ 1 & \\text{if } m = n,\\end{cases} \\quad m,n \\in \\{1,2,...\\}\\quad\\square$$"
   ]
  },
  {
   "cell_type": "markdown",
   "metadata": {},
   "source": [
    "* $\\langle\\sqrt{2}\\cos(2\\pi n\\cdot), \\sqrt{2}\\cos(2\\pi m \\cdot)\\rangle = \\begin{cases} 0 & \\text{if } m \\neq n, \\\\ 1 & \\text{if } m = n \\neq 0,\\\\ 2 & \\text{if } m = n = 0,\\end{cases} \\quad m,n \\in \\{0,1,...\\}$"
   ]
  },
  {
   "cell_type": "markdown",
   "metadata": {},
   "source": [
    "The integral corresponding to the inner product is"
   ]
  },
  {
   "cell_type": "markdown",
   "metadata": {},
   "source": [
    "$$\\langle\\sqrt{2}\\cos(2\\pi n\\cdot), \\sqrt{2}\\cos(2\\pi m \\cdot)\\rangle = 2\\int_0^1 \\cos(2\\pi nx) \\cos(2\\pi mx) dx$$"
   ]
  },
  {
   "cell_type": "markdown",
   "metadata": {},
   "source": [
    "Using the trigonometric identity $\\cos\\theta\\cos\\phi = \\frac{\\cos(\\theta-\\phi) + \\cos(\\theta + \\phi)}{2}$, we get"
   ]
  },
  {
   "cell_type": "markdown",
   "metadata": {},
   "source": [
    "$$2\\int_0^1 \\cos(2\\pi nx) \\cos(2\\pi mx) dx = \\int_0^1 \\left(\\cos(2\\pi x(n-m)) + \\cos(2\\pi x(n+m))\\right)dx.$$"
   ]
  },
  {
   "cell_type": "markdown",
   "metadata": {},
   "source": [
    "If $m \\neq n$, we get"
   ]
  },
  {
   "cell_type": "markdown",
   "metadata": {},
   "source": [
    "$$\\int_0^1 \\left(\\cos(2\\pi x(n-m)) + \\cos(2\\pi x(n+m))\\right)dx =  \\left(\\dfrac{\\sin(2\\pi x(n-m))}{2\\pi(n-m)} + \\dfrac{\\sin(2\\pi x(n+m))}{2\\pi(n+m)}\\right)\\Bigg|_0^1 = \\dfrac{\\sin(2\\pi (n-m))}{2\\pi(n-m)} + \\dfrac{\\sin(2\\pi (n+m))}{2\\pi(n+m)}.$$"
   ]
  },
  {
   "cell_type": "markdown",
   "metadata": {},
   "source": [
    "By the same reasoning as in the previous inner product when $m \\neq n$, we know that both $\\sin(2\\pi (n-m))$ and $\\sin(2\\pi (n+m))$ equal zero for all $m,n \\in \\{0,1,...\\}$."
   ]
  },
  {
   "cell_type": "markdown",
   "metadata": {},
   "source": [
    "If $m=n\\neq 0$ we get "
   ]
  },
  {
   "cell_type": "markdown",
   "metadata": {},
   "source": [
    "$$\\int_0^1 \\left(\\cos(2\\pi x(n-m)) + \\cos(2\\pi x(n+m))\\right)dx = \\int_0^1 \\left(1 + \\cos(4\\pi xn)\\right)dx = \\left(x+\\dfrac{\\sin(4\\pi nx)}{4\\pi n}\\right)\\Bigg|_0^1 = 1 - \\dfrac{\\sin(4\\pi n)}{4\\pi n}.$$"
   ]
  },
  {
   "cell_type": "markdown",
   "metadata": {},
   "source": [
    "We already now that $\\sin(4\\pi n) = 0 \\quad \\forall n \\in \\{0,1,...\\}$. Hence, we get"
   ]
  },
  {
   "cell_type": "markdown",
   "metadata": {},
   "source": [
    "$$1 - \\dfrac{0}{4\\pi n} = 1.$$ "
   ]
  },
  {
   "cell_type": "markdown",
   "metadata": {},
   "source": [
    "If $m = n = 0$ we get"
   ]
  },
  {
   "cell_type": "markdown",
   "metadata": {},
   "source": [
    "$$\\int_0^1 \\left(\\cos(2\\pi x(n-m)) + \\cos(2\\pi x(n+m))\\right)dx = \\int_0^1 \\left(\\cos(0) + \\cos(0)\\right)dx = \\int_0^1 2 dx = 2.$$"
   ]
  },
  {
   "cell_type": "markdown",
   "metadata": {},
   "source": [
    "Thus, we get"
   ]
  },
  {
   "cell_type": "markdown",
   "metadata": {},
   "source": [
    "$$\\langle\\sqrt{2}\\cos(2\\pi n\\cdot), \\sqrt{2}\\cos(2\\pi m \\cdot)\\rangle = \\begin{cases} 0 & \\text{if } m \\neq n, \\\\ 1 & \\text{if } m = n \\neq 0,\\\\ 2 & \\text{if } m = n = 0,\\end{cases} \\quad m,n \\in \\{0,1,...\\} \\quad\\square$$"
   ]
  },
  {
   "cell_type": "markdown",
   "metadata": {},
   "source": [
    "c) In this task we introduce to spaces;"
   ]
  },
  {
   "cell_type": "markdown",
   "metadata": {},
   "source": [
    "$$\\mathcal{T}_n:= \\text{span}(e^{-2\\pi i n \\cdot}, \\dots ,e^{2\\pi i n \\cdot}) = \\left\\{f\\bigg|f(x)= \\sum_{k=-n}^{n}c_ke^{2\\pi i kx},\\quad \\text{where}\\text{  } c_{-n},c_{-n+1}, \\dots, c_n\\in \\mathbb{C} \\right\\}$$"
   ]
  },
  {
   "cell_type": "markdown",
   "metadata": {},
   "source": [
    "$$\\mathcal{S}_n:= \\text{span}(\\cos(0\\cdot),\\cos(2\\pi\\cdot),\\dots, \\cos(2\\pi n \\cdot),\\sin(2\\pi\\cdot),\\sin(2\\pi 2\\cdot),\\dots,\\sin(2\\pi n \\cdot)) \\\\[10pt] = \\left\\{f\\bigg|f(x)= \\dfrac{a_0}{2} + \\sum_{k=1}^n a_k\\cos(2\\pi k x) + b_k \\sin(2\\pi k x),\\quad\\text{where}\\text{ } a_0, a_1, \\dots, a_n, b_1, \\dots, b_n \\in \\R\\right\\}$$"
   ]
  },
  {
   "cell_type": "markdown",
   "metadata": {},
   "source": [
    "Here, the coefficients in the first space are restricted to $c_k = \\overline{c_{-k}}, k = 0, \\dots, n$. "
   ]
  },
  {
   "cell_type": "markdown",
   "metadata": {},
   "source": [
    "I will use the result from a) and b) to find orthonormal bases for these spaces. In addition, I will use Euler's identity to argue that both spaces are the same, i.e. $\\mathcal{T}_n = \\mathcal{S}_n$ and find the dimension of $\\mathcal{T}_n$."
   ]
  },
  {
   "cell_type": "markdown",
   "metadata": {},
   "source": [
    "We know from a) that"
   ]
  },
  {
   "cell_type": "markdown",
   "metadata": {},
   "source": [
    "$$\\langle e^{2\\pi ik\\cdot}, e^{2\\pi ih\\cdot} \\rangle = \\begin{cases} 1 & \\text{if } k = h \\\\ 0 & \\text{else.} \\end{cases}$$"
   ]
  },
  {
   "cell_type": "markdown",
   "metadata": {},
   "source": [
    "This shows that $e^{2\\pi i kx}$ and $e^{2\\pi i hx}$ already are orthonormal for $k \\neq h$, and the length of $e^{-2\\pi i n x},\\dots, e^{2\\pi i nx}$ is 1."
   ]
  },
  {
   "cell_type": "markdown",
   "metadata": {},
   "source": [
    "Thus,"
   ]
  },
  {
   "cell_type": "markdown",
   "metadata": {},
   "source": [
    "$$\\{e^{-2\\pi i n x},\\dots, e^{2\\pi i nx}\\} \\text{  }\\text{is an orthonormal basis for} \\text{ }\\mathcal{T}_n.$$"
   ]
  },
  {
   "cell_type": "markdown",
   "metadata": {},
   "source": [
    "Further, we know from b) that"
   ]
  },
  {
   "cell_type": "markdown",
   "metadata": {},
   "source": [
    "$$\\langle\\sqrt{2}\\cos(2\\pi n\\cdot), \\sqrt{2}\\cos(2\\pi m \\cdot)\\rangle = 0 \\text{  }\\text{if}\\text{  } m\\neq n,\\\\[10pt] \\quad\\langle\\sqrt{2}\\sin(2\\pi n\\cdot), \\sqrt{2}\\sin(2\\pi m \\cdot)\\rangle = 0 \\text{  }\\text{if}\\text{  } m\\neq n \\quad\\text{and}\\\\[10pt]\\langle\\sqrt{2}\\sin(2\\pi n\\cdot), \\sqrt{2}\\cos(2\\pi m \\cdot)\\rangle = 0, n \\in \\{1,2,...\\}, m \\in \\{0,1,...\\}.$$"
   ]
  },
  {
   "cell_type": "markdown",
   "metadata": {},
   "source": [
    "Therefore, we know that the set that $\\mathcal{S}_n$ already spans over, forms an orthogonal basis. Since the length of every element in an orthonormal basis has to be 1, we get that the basis for $\\mathcal{S}_n$ is "
   ]
  },
  {
   "cell_type": "markdown",
   "metadata": {},
   "source": [
    "$$\\{\\sqrt{2}\\cos(0 x),\\sqrt{2}\\cos(2\\pi x),\\dots, \\sqrt{2}\\cos(2\\pi n x),\\sqrt{2}\\sin(2\\pi x),\\sqrt{2}\\sin(2\\pi 2 x),\\dots,\\sqrt{2}\\sin(2\\pi n x)\\}.$$"
   ]
  },
  {
   "cell_type": "markdown",
   "metadata": {},
   "source": [
    "To argue that both spaces $\\mathcal{T}_n$ and $\\mathcal{S}_n$ are the same, we can use Euler's identity, which states"
   ]
  },
  {
   "cell_type": "markdown",
   "metadata": {},
   "source": [
    "$$e^{ix} = \\cos(x) + i\\sin(x).$$"
   ]
  },
  {
   "cell_type": "markdown",
   "metadata": {},
   "source": [
    "We notice that $e^{2\\pi ikx} = \\cos(2\\pi kx) + i\\sin(2\\pi kx)$ for integer values of k. Since $\\mathcal{T}_n$ is spanned by $e^{2\\pi ikx}$ for $k = -n, -n+1, \\dots, n$, and $\\mathcal{S}_n$ is spanned by $\\cos(2\\pi kx)$ for $k=0,1,\\dots,n$ and $\\sin(2\\pi kx)$ for $k=1,\\dots,n$"
   ]
  },
  {
   "cell_type": "markdown",
   "metadata": {},
   "source": [
    "<span style=\"color:red\">We are now going to argue that both spaces are the same, i.e. $\\mathcal{T}_n = \\mathcal{S}_n$. To show this, we need to show that $\\mathcal{T}_n$ is a subset of $\\mathcal{S}_n$, and vice versa. \\span>"
   ]
  },
  {
   "cell_type": "markdown",
   "metadata": {},
   "source": [
    "<span style=\"color:red\">Let's start by showing that $\\mathcal{T}_n$ is a subset of $\\mathcal{S}_n$. Euler's formula gives us that $e^{ix} = \\cos x + i\\sin x$. We notice that $e^{-2\\pi n x} = \\cos(-2\\pi n x) - i\\sin(2\\pi n x) = \\cos(2\\pi n x) - i\\sin(2\\pi n x)$. Similary we have that $e^{2\\pi n x} = \\cos(2\\pi n x) + i\\sin(2\\pi n x)$z\\span>"
   ]
  },
  {
   "cell_type": "markdown",
   "metadata": {},
   "source": [
    "The dimension of $\\mathcal{T}_n$ is $2n + 1$ because of $2n+1$ linearly independent elements in the span?"
   ]
  },
  {
   "cell_type": "markdown",
   "metadata": {},
   "source": [
    "d) In this task, we will use the representation of $\\mathcal{S}_n$ from *c)* to prove that the Fourier coefficients $a_0, a_1, \\dots, a_n, b_1, \\dots, b_n$ of a function $f \\in \\mathcal{S}_n$ can be computed as"
   ]
  },
  {
   "cell_type": "markdown",
   "metadata": {},
   "source": [
    "$$a_k = 2\\langle f,\\cos(2\\pi k \\cdot)\\rangle = 2\\int_{-\\frac{1}{2}}^{\\frac{1}{2}}f(x) \\cos(2\\pi kx) dx,\\quad k = 0,1,\\dots,n \\tag{2}$$"
   ]
  },
  {
   "cell_type": "markdown",
   "metadata": {},
   "source": [
    "and"
   ]
  },
  {
   "cell_type": "markdown",
   "metadata": {},
   "source": [
    "$$b_k = 2\\langle f,\\sin(2\\pi k \\cdot)\\rangle = 2\\int_{-\\frac{1}{2}}^{\\frac{1}{2}}f(x) \\sin(2\\pi kx) dx,\\quad k = 1,\\dots,n,\\tag{3}$$"
   ]
  },
  {
   "cell_type": "markdown",
   "metadata": {},
   "source": [
    "where we might write $a_k(f)$ and $b_k(f)$ to emphasize that these are the coefficients belonging to $f$."
   ]
  },
  {
   "cell_type": "markdown",
   "metadata": {},
   "source": [
    "We will start by proving $(2)$. Let's start by computing the inner product."
   ]
  },
  {
   "cell_type": "markdown",
   "metadata": {},
   "source": [
    "$$\\langle f,\\cos(2\\pi k \\cdot)\\rangle = \\int_0^1f(x)\\cos(2\\pi kx) dx$$"
   ]
  },
  {
   "cell_type": "markdown",
   "metadata": {},
   "source": [
    "Now, let's substitute in $f(x)$ from its representation in $\\mathcal{S}_n$: "
   ]
  },
  {
   "cell_type": "markdown",
   "metadata": {},
   "source": [
    "$$\\langle f,\\cos(2\\pi k \\cdot)\\rangle = \\int_0^1\\left(\\dfrac{a_0}{2} + \\sum_{j=1}^na_j\\cos(2\\pi jx) + b_j\\sin(2\\pi jx)\\right)\\cos(2\\pi kx)dx = \\int_0^1\\left(\\dfrac{a_0}{2}\\cos(2\\pi kx) + \\sum_{j=1}^na_j\\cos(2\\pi jx)\\cos(2\\pi kx) + b_j\\sin(2\\pi jx)\\cos(2\\pi kx)\\right)dx \\\\= \\int_0^1\\left(\\dfrac{a_0}{2}\\cos(2\\pi kx) + \\sum_{j=1}^na_j\\cos(2\\pi jx)\\cos(2\\pi kx)\\right) dx = \\dfrac{a_0\\sin(2\\pi k)}{4\\pi k} + \\dfrac{a_k}{2} = 0 + \\dfrac{a_k}{2}\\tag{4},$$"
   ]
  },
  {
   "cell_type": "markdown",
   "metadata": {},
   "source": [
    "where the last equality comes from that we know that $\\sin(2\\pi k) = 0$ for all $k \\in  \\{1,\\dots,n\\}$ and $\\langle\\cos(2\\pi jx),\\cos(2\\pi kx)\\rangle = 0 \\quad\\forall j \\neq k$. Further, we know from *b)* that $\\int_0^1\\cos(2\\pi kx)\\cos(2\\pi kx)dx = \\frac{1}{2}$. In addition, we know that the integral of an odd function over one period equals 0. Therefore, we know that the $b_k$ term becomes 0 after the integration. $(4)$ then gives ut that"
   ]
  },
  {
   "cell_type": "markdown",
   "metadata": {},
   "source": [
    "$$a_k = 2 \\langle f,\\cos(2\\pi k \\cdot)\\rangle = 2\\int_0^1f(x)\\cos(2\\pi kx) dx = 2\\int_{-\\frac{1}{2}}^{\\frac{1}{2}}f(x)\\cos(2\\pi kx) dx,\\qquad k = 0,1,\\dots,n\\quad\\square"
   ]
  },
  {
   "cell_type": "markdown",
   "metadata": {},
   "source": [
    "where we could change the limits of the integral due to the periodicity."
   ]
  },
  {
   "cell_type": "markdown",
   "metadata": {},
   "source": [
    "Now, let's prove $(3)$. We can use the same procedure here as in the previous proof. We start by computing the inner product"
   ]
  },
  {
   "cell_type": "markdown",
   "metadata": {},
   "source": [
    "$$\\langle f,\\sin(2\\pi k \\cdot)\\rangle = \\int_{-\\frac{1}{2}}^{\\frac{1}{2}}f(x)\\sin(2\\pi kx) dx,\\quad k = 1,\\dots,n.$$"
   ]
  },
  {
   "cell_type": "markdown",
   "metadata": {},
   "source": [
    "Note that we can integrate from $-\\frac{1}{2}$ to $\\frac{1}{2}$ due to periodicity and we ignore $k=0$ because $\\sin(0) = 0$."
   ]
  },
  {
   "cell_type": "markdown",
   "metadata": {},
   "source": [
    "As we did before, let's substitute in $f(x)$ from its representation in $\\mathcal{S}_n$:"
   ]
  },
  {
   "cell_type": "markdown",
   "metadata": {},
   "source": [
    "$$\\langle f,\\sin(2\\pi k \\cdot)\\rangle = \\int_{-\\frac{1}{2}}^{\\frac{1}{2}}\\left(\\dfrac{a_0}{2} + \\sum_{j=1}^na_j\\cos(2\\pi jx) + b_j\\sin(2\\pi jx)\\right)\\sin(2\\pi kx)dx = \\int_{-\\frac{1}{2}}^{\\frac{1}{2}}\\left(\\dfrac{a_0}{2}\\sin(2\\pi kx) + \\sum_{j=1}^na_j\\cos(2\\pi jx)\\sin(2\\pi kx) + b_j\\sin(2\\pi jx)\\sin(2\\pi kx)\\right)dx \\\\ = \\int_{-\\frac{1}{2}}^{\\frac{1}{2}}\\left(\\dfrac{a_0}{2}\\sin(2\\pi kx) + \\sum_{j=1}^n b_j\\sin(2\\pi jx)\\sin(2\\pi kx)\\right)dx = 0 + \\dfrac{b_k}{2}"
   ]
  },
  {
   "cell_type": "markdown",
   "metadata": {},
   "source": [
    "The last equality comes from that we know that $\\langle\\sin(2\\pi jx),\\sin(2\\pi kx)\\rangle = 0 \\quad\\forall j \\neq k $. The $a_0$-term because zero because we integrate over one period and the second integral we know from *b)* to equal $\\frac{1}{2}$."
   ]
  },
  {
   "cell_type": "markdown",
   "metadata": {},
   "source": [
    "Therefore, we get that"
   ]
  },
  {
   "cell_type": "markdown",
   "metadata": {},
   "source": [
    "$$\\langle f,\\sin(2\\pi k \\cdot)\\rangle = \\int_{-\\frac{1}{2}}^{\\frac{1}{2}}f(x)\\sin(2\\pi kx) dx,\\quad k = 1,\\dots,n.\\quad\\square$$"
   ]
  },
  {
   "cell_type": "markdown",
   "metadata": {},
   "source": [
    "e) Now, we want to use equidistant points $x_0,\\dots,x_{N-1},x_j=\\frac{j}{N}, j = 0,\\dots, N,$ for some $N \\in \\N$ to approximate the integral required for the Fourier coefficients $c_k(f)$ of a function $f$ from the equation $$c_k = c_k(f) = \\langle f,e^{2\\pi i k\\cdot}\\rangle = \\int_{-\\frac{1}{2}}^{\\frac{1}{2}} f(x)e^{-2\\pi i kx}dx,\\quad k = -n,\\dots,n\\tag{5}$$"
   ]
  },
  {
   "cell_type": "markdown",
   "metadata": {},
   "source": [
    "We use the notation $f_j=f(x_j)$ and $\\bm{f} = (f_0,\\dots,f_{N-1})$. We will use the trapezoidal rule to show that we will obtain"
   ]
  },
  {
   "cell_type": "markdown",
   "metadata": {},
   "source": [
    "$$c_k(f) \\approx \\hat{f_k} := \\dfrac{1}{N}\\sum_{j=0}^{N-1}f_je^{-2\\pi ijk/N},$$"
   ]
  },
  {
   "cell_type": "markdown",
   "metadata": {},
   "source": [
    "and show that $\\hat{f_k}$ are $N$ periodic."
   ]
  },
  {
   "cell_type": "markdown",
   "metadata": {},
   "source": [
    "The composite trapezoidal rule states that"
   ]
  },
  {
   "cell_type": "markdown",
   "metadata": {},
   "source": [
    "$$\\int_a^bf(x)dx = \\dfrac{1}{2} \\sum_{j=1}^{N}(x_j-x_{j-1})(f(x_{j-1})+f(x_j))$$"
   ]
  },
  {
   "cell_type": "markdown",
   "metadata": {},
   "source": [
    "In our case we have that $(x_j-x_{j-1})=\\frac{1}{N}$. We also consider the fourier coefficients on the interval $[0,1)$ instead. By applying the trapezoidal rule on $(5)$ we get"
   ]
  },
  {
   "cell_type": "markdown",
   "metadata": {},
   "source": [
    "$$\\int_0^1 f(x)e^{-2\\pi ikx}dx \\approx \\dfrac{1}{N}\\left(\\dfrac{f_0}{2} + \\sum_{j =1}^{N-1}f_je^{-2\\pi ijk/N} + \\dfrac{f_N}{2}\\right)$$"
   ]
  },
  {
   "cell_type": "markdown",
   "metadata": {},
   "source": [
    "We know that $f(x)$ is periodic, meaning that $f_0=f_N$. This gives us that"
   ]
  },
  {
   "cell_type": "markdown",
   "metadata": {},
   "source": [
    "$$\\hat{f_k} := \\dfrac{1}{N}\\sum_{j=0}^{N-1}f_je^{-2\\pi ijk/N},$$"
   ]
  },
  {
   "cell_type": "markdown",
   "metadata": {},
   "source": [
    "and therefore the approximation"
   ]
  },
  {
   "cell_type": "markdown",
   "metadata": {},
   "source": [
    "$$c_k(f) \\approx \\hat{f_k} := \\dfrac{1}{N}\\sum_{j=0}^{N-1}f_je^{-2\\pi ijk/N}.$$"
   ]
  },
  {
   "cell_type": "markdown",
   "metadata": {},
   "source": [
    "Further, we have to show that $\\hat{f_k}$ is N periodic. We start by looking at what $\\hat{f_k}_{+N}$ looks like."
   ]
  },
  {
   "cell_type": "markdown",
   "metadata": {},
   "source": [
    "$$\\hat{f_k}_{+N} = \\dfrac{1}{N}\\sum_{j=0}^{N-1}f_je^{-2\\pi ij(k+N)/N} = \\dfrac{1}{N}\\sum_{j=0}^{N-1}f_je^{-2\\pi ijk/N}e^{-2\\pi ijN/N} = \\dfrac{1}{N}\\sum_{j=0}^{N-1}f_je^{-2\\pi ijk/N}e^{-2\\pi ij} = \\dfrac{1}{N}\\sum_{j=0}^{N-1}f_je^{-2\\pi ijk/N},$$"
   ]
  },
  {
   "cell_type": "markdown",
   "metadata": {},
   "source": [
    "where the last equality comes from that we know that $e^{-2\\pi ij} = 1\\text{   }\\forall j \\in \\N$. Hence, $\\hat{f_k}$ is N periodic."
   ]
  },
  {
   "cell_type": "markdown",
   "metadata": {},
   "source": [
    "<span style=\"color:red\">What does that mean for the approximation in the equation above?"
   ]
  },
  {
   "cell_type": "markdown",
   "metadata": {},
   "source": [
    "f) Let $N \\in \\N$ and $k \\in \\Z$ be given. We will prove that"
   ]
  },
  {
   "cell_type": "markdown",
   "metadata": {},
   "source": [
    "$$\\dfrac{1}{N}\\sum_{j=0}^{N-1}e^{-2\\pi i jk/N} = \\begin{cases} 1 & \\text{if } k \\text{ mod } N \\equiv 0, \\\\ 0 & \\text{else.} \\end{cases}$$"
   ]
  },
  {
   "cell_type": "markdown",
   "metadata": {},
   "source": [
    "We start by proving that the sum gives $1$ if $k \\text{ mod } N \\equiv 0$. If $k \\text{ mod } N \\equiv 0$, we know that $k = qN$ for some $q \\in \\Z$. Therefore, the sum can be written as"
   ]
  },
  {
   "cell_type": "markdown",
   "metadata": {},
   "source": [
    "$$\\dfrac{1}{N}\\sum_{j=0}^{N-1}e^{-2\\pi i jqN/N} = \\dfrac{1}{N}\\sum_{j=0}^{N-1}e^{-2\\pi i jq}  $$"
   ]
  },
  {
   "cell_type": "markdown",
   "metadata": {},
   "source": [
    "We know that $e^{-2\\pi i jq}$ becomes $1$ for all $q \\in \\Z$ and $j \\in \\N$. Hence, the sum reduces to"
   ]
  },
  {
   "cell_type": "markdown",
   "metadata": {},
   "source": [
    "$$\\dfrac{1}{N}\\sum_{j=0}^{N-1}1 = \\dfrac{1}{N} N = \\underline{1}.$$"
   ]
  },
  {
   "cell_type": "markdown",
   "metadata": {},
   "source": [
    "Now, we have to show that the sum equals zero if $k \\text{ mod } N \\cancel{\\equiv} \\text{  }0$. We know that a finite geometric sum can be written as"
   ]
  },
  {
   "cell_type": "markdown",
   "metadata": {},
   "source": [
    "$$\\sum_{k=0}^{n-1}ar^k = a\\dfrac{1-r^n}{1-r}, \\quad \\text{for } r\\neq 1.$$"
   ]
  },
  {
   "cell_type": "markdown",
   "metadata": {},
   "source": [
    "We can then rewrite the sum of the geometric series as a geometric sum."
   ]
  },
  {
   "cell_type": "markdown",
   "metadata": {},
   "source": [
    "$$\\dfrac{1}{N}\\sum_{j=0}^{N-1}e^{-2\\pi i jk/N} = \\dfrac{1}{N}\\dfrac{1-e^{-2\\pi i kN/N}}{1- e^{-2\\pi i k/N}} = \\dfrac{1}{N}\\dfrac{1-1}{1- e^{-2\\pi i k/N}} = \\dfrac{1}{N}\\dfrac{0}{1- e^{-2\\pi i k/N}} = \\underline{0}.$$"
   ]
  },
  {
   "cell_type": "markdown",
   "metadata": {},
   "source": [
    "Thus,"
   ]
  },
  {
   "cell_type": "markdown",
   "metadata": {},
   "source": [
    "$$\\dfrac{1}{N}\\sum_{j=0}^{N-1}e^{-2\\pi i jk/N} = \\begin{cases} 1 & \\text{if } k \\text{ mod } N \\equiv 0, \\\\ 0 & \\text{else.} \\end{cases}\\quad\\quad\\square$$"
   ]
  },
  {
   "cell_type": "markdown",
   "metadata": {},
   "source": [
    "g)"
   ]
  },
  {
   "cell_type": "markdown",
   "metadata": {},
   "source": [
    "h) We are defining a function **transform** that we will use to compute the DFT using **scipy.fft.fft**. The function, as well as the imaginary and real parts of the DFT are displayed for four different functions with three different number of samples."
   ]
  },
  {
   "cell_type": "code",
   "execution_count": null,
   "metadata": {},
   "outputs": [],
   "source": [
    "import numpy as np\n",
    "import scipy.fft\n",
    "import matplotlib.pyplot as plt\n"
   ]
  },
  {
   "cell_type": "code",
   "execution_count": null,
   "metadata": {},
   "outputs": [],
   "source": [
    "def transform(f, N, start=0.0):\n",
    "    \"\"\"\n",
    "    Transform a function f by evaluating it at N equidistant points within\n",
    "    the interval [start, start+1).\n",
    "\n",
    "    Parameters:\n",
    "    - f: callable\n",
    "        A function that takes a numeric input and returns a numeric output.\n",
    "    - N: int\n",
    "        The number of equidistant points at which to evaluate the function.\n",
    "    - start: float, optional\n",
    "        The starting point for the interval. Default is 0.0.\n",
    "\n",
    "    Returns:\n",
    "    - f_values: ndarray\n",
    "        An array containing the values of the function f evaluated at N\n",
    "        equidistant points within the specified interval.\n",
    "    \"\"\"\n",
    "\n",
    "    # Create an array of N equidistant points\n",
    "    x = np.linspace(start, start + 1.0, N, endpoint=False)\n",
    "\n",
    "    # Evaluate the function at the points\n",
    "    f_values = f(x)\n",
    "\n",
    "    return f_values"
   ]
  },
  {
   "cell_type": "code",
   "execution_count": null,
   "metadata": {},
   "outputs": [],
   "source": [
    "def plot_f_value_f_hat(f, N):\n",
    "    \"\"\"\n",
    "    Plot the real and imaginary parts of the DFT of a function f.\n",
    "\n",
    "    Parameters:\n",
    "    - f: callable\n",
    "        A function that takes a numeric input and returns a numeric output.\n",
    "    - N: int\n",
    "        The number of equidistant points at which to evaluate the function.\n",
    "    \"\"\"\n",
    "\n",
    "    # Compute the DFT using SciPy's FFT function\n",
    "    f_values = transform(f, N)\n",
    "    f_hat = scipy.fft.fft(f_values)\n",
    "\n",
    "    plt.figure(figsize=(10, 4))\n",
    "\n",
    "    # Plot the real and imaginary parts with different colors\n",
    "    plt.plot(np.real(f_hat), color=\"red\", label=\"real\")\n",
    "    plt.plot(np.imag(f_hat), color=\"blue\", label=\"imaginary\")\n",
    "\n",
    "    # plot the function\n",
    "    plt.plot(f_values, color=\"green\", label=\"function\")\n",
    "\n",
    "    plt.title(f\"Real and imaginary parts of the DFT of {f.__name__} with N={N}\")\n",
    "    plt.grid()\n",
    "    plt.legend()\n",
    "    plt.show()"
   ]
  },
  {
   "cell_type": "code",
   "execution_count": null,
   "metadata": {},
   "outputs": [],
   "source": [
    "# defining the functions\n",
    "\n",
    "def f1(x):\n",
    "    return np.sin(8*np.pi*x)\n",
    "\n",
    "def f2(x):\n",
    "    return np.sin(32*np.pi) + np.cos(128*np.pi*x)\n",
    "\n",
    "def f3(x):\n",
    "    return x\n",
    "\n",
    "def f4(x):\n",
    "    return 1 - np.abs(x)\n"
   ]
  },
  {
   "cell_type": "code",
   "execution_count": null,
   "metadata": {},
   "outputs": [],
   "source": [
    "plot_f_value_f_hat(f1, 5)\n",
    "plot_f_value_f_hat(f1,17)\n",
    "plot_f_value_f_hat(f1,257)"
   ]
  },
  {
   "cell_type": "code",
   "execution_count": null,
   "metadata": {},
   "outputs": [],
   "source": [
    "plot_f_value_f_hat(f2, 5)\n",
    "plot_f_value_f_hat(f2,17)\n",
    "plot_f_value_f_hat(f2,257)"
   ]
  },
  {
   "cell_type": "code",
   "execution_count": null,
   "metadata": {},
   "outputs": [],
   "source": [
    "plot_f_value_f_hat(f3, 5)\n",
    "plot_f_value_f_hat(f3,17)\n",
    "plot_f_value_f_hat(f3,257)"
   ]
  },
  {
   "cell_type": "code",
   "execution_count": null,
   "metadata": {},
   "outputs": [],
   "source": [
    "plot_f_value_f_hat(f4, 5)\n",
    "plot_f_value_f_hat(f4,17)\n",
    "plot_f_value_f_hat(f4,257)\n"
   ]
  },
  {
   "cell_type": "markdown",
   "metadata": {},
   "source": [
    "<span style=\"color:red\">For which cases does **f** approximate $f$ well?"
   ]
  }
 ],
 "metadata": {
  "kernelspec": {
   "display_name": "Python 3",
   "language": "python",
   "name": "python3"
  },
  "language_info": {
   "codemirror_mode": {
    "name": "ipython",
    "version": 3
   },
   "file_extension": ".py",
   "mimetype": "text/x-python",
   "name": "python",
   "nbconvert_exporter": "python",
   "pygments_lexer": "ipython3",
   "version": "3.11.2"
  },
  "orig_nbformat": 4
 },
 "nbformat": 4,
 "nbformat_minor": 2
}
